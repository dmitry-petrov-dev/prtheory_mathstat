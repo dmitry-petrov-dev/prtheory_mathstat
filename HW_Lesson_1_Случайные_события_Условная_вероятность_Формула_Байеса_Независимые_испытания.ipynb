{
  "nbformat": 4,
  "nbformat_minor": 0,
  "metadata": {
    "colab": {
      "name": "Урок 1. Случайные события. Условная вероятность. Формула Байеса. Независимые испытания.ipynb",
      "provenance": []
    },
    "kernelspec": {
      "name": "python3",
      "display_name": "Python 3"
    }
  },
  "cells": [
    {
      "cell_type": "markdown",
      "metadata": {
        "id": "9bZpMCO3sl6H"
      },
      "source": [
        "**1. Из колоды в 52 карты извлекаются случайным образом 4 карты.**"
      ]
    },
    {
      "cell_type": "markdown",
      "metadata": {
        "id": "EYuVuD4z2I4V"
      },
      "source": [
        "**a) Найти вероятность того, что все карты – крести.**"
      ]
    },
    {
      "cell_type": "code",
      "metadata": {
        "id": "Pt5_69Z-pAcx"
      },
      "source": [
        "from math import factorial"
      ],
      "execution_count": null,
      "outputs": []
    },
    {
      "cell_type": "code",
      "metadata": {
        "id": "SUqaVaYXs0eq"
      },
      "source": [
        "def combination(n, k):\r\n",
        "  return int(factorial(n)/ (factorial(k) * factorial(n-k)))"
      ],
      "execution_count": null,
      "outputs": []
    },
    {
      "cell_type": "code",
      "metadata": {
        "colab": {
          "base_uri": "https://localhost:8080/"
        },
        "id": "CoGgjKBttHGW",
        "outputId": "386fe256-c340-4394-e616-0982e1bd5c34"
      },
      "source": [
        "C_4_13 = combination(13, 4)\r\n",
        "C_4_13"
      ],
      "execution_count": null,
      "outputs": [
        {
          "output_type": "execute_result",
          "data": {
            "text/plain": [
              "715"
            ]
          },
          "metadata": {
            "tags": []
          },
          "execution_count": 51
        }
      ]
    },
    {
      "cell_type": "code",
      "metadata": {
        "colab": {
          "base_uri": "https://localhost:8080/"
        },
        "id": "2FrAfjFd3dsz",
        "outputId": "820f6859-543c-44f1-a482-2e78eb5a18c0"
      },
      "source": [
        "C_4_52 = combination(52, 4)\r\n",
        "C_4_52"
      ],
      "execution_count": null,
      "outputs": [
        {
          "output_type": "execute_result",
          "data": {
            "text/plain": [
              "270725"
            ]
          },
          "metadata": {
            "tags": []
          },
          "execution_count": 52
        }
      ]
    },
    {
      "cell_type": "code",
      "metadata": {
        "colab": {
          "base_uri": "https://localhost:8080/"
        },
        "id": "SpFnWQpv5XZF",
        "outputId": "5056064e-100d-4ded-96c5-444e320408bc"
      },
      "source": [
        "P = C_4_13/C_4_52\r\n",
        "P"
      ],
      "execution_count": null,
      "outputs": [
        {
          "output_type": "execute_result",
          "data": {
            "text/plain": [
              "0.0026410564225690276"
            ]
          },
          "metadata": {
            "tags": []
          },
          "execution_count": 53
        }
      ]
    },
    {
      "cell_type": "markdown",
      "metadata": {
        "id": "H_vNcHOH6aBn"
      },
      "source": [
        "Ответ: P = 0.00264"
      ]
    },
    {
      "cell_type": "markdown",
      "metadata": {
        "id": "FYUTbXLu4Vyj"
      },
      "source": [
        "**б) Найти вероятность, что среди 4-х карт окажется хотя бы один туз.**"
      ]
    },
    {
      "cell_type": "code",
      "metadata": {
        "colab": {
          "base_uri": "https://localhost:8080/"
        },
        "id": "Le3IX_j-6g9c",
        "outputId": "b10fd645-65bb-4d1f-8d89-dc016a1c8139"
      },
      "source": [
        "C_4_48 = combination(48, 4)\r\n",
        "C_4_48"
      ],
      "execution_count": null,
      "outputs": [
        {
          "output_type": "execute_result",
          "data": {
            "text/plain": [
              "194580"
            ]
          },
          "metadata": {
            "tags": []
          },
          "execution_count": 54
        }
      ]
    },
    {
      "cell_type": "code",
      "metadata": {
        "colab": {
          "base_uri": "https://localhost:8080/"
        },
        "id": "uiTh_CuA78Em",
        "outputId": "7cc35527-22a6-4855-b480-5911519d87b0"
      },
      "source": [
        "C = C_4_52 - C_4_48\r\n",
        "C"
      ],
      "execution_count": null,
      "outputs": [
        {
          "output_type": "execute_result",
          "data": {
            "text/plain": [
              "76145"
            ]
          },
          "metadata": {
            "tags": []
          },
          "execution_count": 55
        }
      ]
    },
    {
      "cell_type": "code",
      "metadata": {
        "colab": {
          "base_uri": "https://localhost:8080/"
        },
        "id": "bHc6DKKI8ETA",
        "outputId": "cb839c08-ca9b-4f58-dd98-b7856bed2865"
      },
      "source": [
        "P = C/C_4_52\r\n",
        "P"
      ],
      "execution_count": null,
      "outputs": [
        {
          "output_type": "execute_result",
          "data": {
            "text/plain": [
              "0.2812632745405855"
            ]
          },
          "metadata": {
            "tags": []
          },
          "execution_count": 56
        }
      ]
    },
    {
      "cell_type": "markdown",
      "metadata": {
        "id": "HylsT6H-8NAw"
      },
      "source": [
        "Ответ: P = 0,28126"
      ]
    },
    {
      "cell_type": "markdown",
      "metadata": {
        "id": "LMvDzuBC8cLW"
      },
      "source": [
        "**2. На входной двери подъезда установлен кодовый замок, содержащий десять кнопок с цифрами от 0 до 9. Код содержит три цифры, которые нужно нажать одновременно. Какова вероятность того, что человек, не знающий код, откроет дверь с первой попытки?**"
      ]
    },
    {
      "cell_type": "code",
      "metadata": {
        "id": "mVX4o84BAq7d"
      },
      "source": [
        "C_3_3=combination(3,3)"
      ],
      "execution_count": null,
      "outputs": []
    },
    {
      "cell_type": "code",
      "metadata": {
        "colab": {
          "base_uri": "https://localhost:8080/"
        },
        "id": "6yPXcJJ38Vzy",
        "outputId": "0be47087-c756-4bdb-d956-ff326b773501"
      },
      "source": [
        "C_3_10=combination(10,3)\r\n",
        "C_3_10"
      ],
      "execution_count": null,
      "outputs": [
        {
          "output_type": "execute_result",
          "data": {
            "text/plain": [
              "120"
            ]
          },
          "metadata": {
            "tags": []
          },
          "execution_count": 58
        }
      ]
    },
    {
      "cell_type": "code",
      "metadata": {
        "colab": {
          "base_uri": "https://localhost:8080/"
        },
        "id": "0i02qaw3APAy",
        "outputId": "f7e95d8e-8bc2-44db-d98b-f0eaf341a78b"
      },
      "source": [
        "P = C_3_3 / C_3_10\r\n",
        "P"
      ],
      "execution_count": null,
      "outputs": [
        {
          "output_type": "execute_result",
          "data": {
            "text/plain": [
              "0.008333333333333333"
            ]
          },
          "metadata": {
            "tags": []
          },
          "execution_count": 59
        }
      ]
    },
    {
      "cell_type": "markdown",
      "metadata": {
        "id": "X7MSzu8HA2KX"
      },
      "source": [
        "Ответ: P=0.008"
      ]
    },
    {
      "cell_type": "markdown",
      "metadata": {
        "id": "c3zgBZQTBAdc"
      },
      "source": [
        "**3. В ящике имеется 15 деталей, из которых 9 окрашены. Рабочий случайным образом извлекает 3 детали. Какова вероятность того, что все извлеченные детали окрашены?**"
      ]
    },
    {
      "cell_type": "code",
      "metadata": {
        "colab": {
          "base_uri": "https://localhost:8080/"
        },
        "id": "SspwVMGOA0Zt",
        "outputId": "03552c60-a6d1-4cdb-cfb6-1adfd77c80c3"
      },
      "source": [
        "C_3_9 = combination(9, 3)\r\n",
        "C_3_9"
      ],
      "execution_count": null,
      "outputs": [
        {
          "output_type": "execute_result",
          "data": {
            "text/plain": [
              "84"
            ]
          },
          "metadata": {
            "tags": []
          },
          "execution_count": 60
        }
      ]
    },
    {
      "cell_type": "code",
      "metadata": {
        "colab": {
          "base_uri": "https://localhost:8080/"
        },
        "id": "4InWiRmtBQmv",
        "outputId": "e006c716-5e68-48f5-a18e-c257b7ad2409"
      },
      "source": [
        "C_3_15 = combination(15, 3)\r\n",
        "C_3_15"
      ],
      "execution_count": null,
      "outputs": [
        {
          "output_type": "execute_result",
          "data": {
            "text/plain": [
              "455"
            ]
          },
          "metadata": {
            "tags": []
          },
          "execution_count": 61
        }
      ]
    },
    {
      "cell_type": "code",
      "metadata": {
        "colab": {
          "base_uri": "https://localhost:8080/"
        },
        "id": "EyW52AM1BV41",
        "outputId": "79c8fb36-3640-40d5-ea42-47b26ab7fa70"
      },
      "source": [
        "P = C_3_9 / C_3_15\r\n",
        "P"
      ],
      "execution_count": null,
      "outputs": [
        {
          "output_type": "execute_result",
          "data": {
            "text/plain": [
              "0.18461538461538463"
            ]
          },
          "metadata": {
            "tags": []
          },
          "execution_count": 62
        }
      ]
    },
    {
      "cell_type": "markdown",
      "metadata": {
        "id": "rsD5x_9PBlqx"
      },
      "source": [
        "Ответ: P = 0.1846"
      ]
    },
    {
      "cell_type": "markdown",
      "metadata": {
        "id": "p64DOl77BrCn"
      },
      "source": [
        "**4. В лотерее 100 билетов. Из них 2 выигрышных. Какова вероятность того, что 2 приобретенных билета окажутся выигрышными?**"
      ]
    },
    {
      "cell_type": "code",
      "metadata": {
        "colab": {
          "base_uri": "https://localhost:8080/"
        },
        "id": "TwrzLM_bBwv_",
        "outputId": "ef1789bd-c7d3-4a80-ba28-d0fb8da9bd1c"
      },
      "source": [
        "C_2_100 = combination(100, 2)\r\n",
        "C_2_100"
      ],
      "execution_count": null,
      "outputs": [
        {
          "output_type": "execute_result",
          "data": {
            "text/plain": [
              "4950"
            ]
          },
          "metadata": {
            "tags": []
          },
          "execution_count": 63
        }
      ]
    },
    {
      "cell_type": "code",
      "metadata": {
        "id": "K8M-fCRkB8TK"
      },
      "source": [
        "C_2_2 = combination(2, 2)"
      ],
      "execution_count": null,
      "outputs": []
    },
    {
      "cell_type": "code",
      "metadata": {
        "colab": {
          "base_uri": "https://localhost:8080/"
        },
        "id": "e4hW1EmICB8G",
        "outputId": "2fc3e56b-5030-4bca-d2f5-5e1bc7f9ec88"
      },
      "source": [
        "P = C_2_2 / C_2_100\r\n",
        "P"
      ],
      "execution_count": null,
      "outputs": [
        {
          "output_type": "execute_result",
          "data": {
            "text/plain": [
              "0.00020202020202020202"
            ]
          },
          "metadata": {
            "tags": []
          },
          "execution_count": 65
        }
      ]
    },
    {
      "cell_type": "markdown",
      "metadata": {
        "id": "Mc4R02PNCG5M"
      },
      "source": [
        "Ответ: P = 0.0002"
      ]
    }
  ]
}