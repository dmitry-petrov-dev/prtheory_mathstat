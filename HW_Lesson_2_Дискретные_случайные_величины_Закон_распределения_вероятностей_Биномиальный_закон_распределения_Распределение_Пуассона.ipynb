{
  "nbformat": 4,
  "nbformat_minor": 0,
  "metadata": {
    "colab": {
      "name": "HW_Lesson_2. Дискретные случайные величины. Закон распределения вероятностей. Биномиальный закон распределения. Распределение Пуассона.ipynb",
      "provenance": [],
      "authorship_tag": "ABX9TyOeRPXf09v6x/pK9RSZdrRJ",
      "include_colab_link": true
    },
    "kernelspec": {
      "name": "python3",
      "display_name": "Python 3"
    }
  },
  "cells": [
    {
      "cell_type": "markdown",
      "metadata": {
        "id": "view-in-github",
        "colab_type": "text"
      },
      "source": [
        "<a href=\"https://colab.research.google.com/github/dmitry-petrov-dev/prtheory_mathstat/blob/lesson2/HW_Lesson_2_%D0%94%D0%B8%D1%81%D0%BA%D1%80%D0%B5%D1%82%D0%BD%D1%8B%D0%B5_%D1%81%D0%BB%D1%83%D1%87%D0%B0%D0%B9%D0%BD%D1%8B%D0%B5_%D0%B2%D0%B5%D0%BB%D0%B8%D1%87%D0%B8%D0%BD%D1%8B_%D0%97%D0%B0%D0%BA%D0%BE%D0%BD_%D1%80%D0%B0%D1%81%D0%BF%D1%80%D0%B5%D0%B4%D0%B5%D0%BB%D0%B5%D0%BD%D0%B8%D1%8F_%D0%B2%D0%B5%D1%80%D0%BE%D1%8F%D1%82%D0%BD%D0%BE%D1%81%D1%82%D0%B5%D0%B9_%D0%91%D0%B8%D0%BD%D0%BE%D0%BC%D0%B8%D0%B0%D0%BB%D1%8C%D0%BD%D1%8B%D0%B9_%D0%B7%D0%B0%D0%BA%D0%BE%D0%BD_%D1%80%D0%B0%D1%81%D0%BF%D1%80%D0%B5%D0%B4%D0%B5%D0%BB%D0%B5%D0%BD%D0%B8%D1%8F_%D0%A0%D0%B0%D1%81%D0%BF%D1%80%D0%B5%D0%B4%D0%B5%D0%BB%D0%B5%D0%BD%D0%B8%D0%B5_%D0%9F%D1%83%D0%B0%D1%81%D1%81%D0%BE%D0%BD%D0%B0.ipynb\" target=\"_parent\"><img src=\"https://colab.research.google.com/assets/colab-badge.svg\" alt=\"Open In Colab\"/></a>"
      ]
    },
    {
      "cell_type": "markdown",
      "metadata": {
        "id": "h1P8OVwdtisR"
      },
      "source": [
        "**1. Вероятность того, что стрелок попадет в мишень, выстрелив один раз, равна 0.8. Стрелок выстрелил 100 раз. Найдите вероятность того, что стрелок попадет в цель ровно 85 раз.**"
      ]
    },
    {
      "cell_type": "code",
      "metadata": {
        "id": "haDQU6F0urhg"
      },
      "source": [
        "from math import factorial\r\n",
        "import numpy as np"
      ],
      "execution_count": null,
      "outputs": []
    },
    {
      "cell_type": "code",
      "metadata": {
        "id": "WF3MwJFTvySC"
      },
      "source": [
        "def combinations(n, k):\r\n",
        "    return int(factorial(n) / (factorial(k) * factorial(n - k)))"
      ],
      "execution_count": null,
      "outputs": []
    },
    {
      "cell_type": "code",
      "metadata": {
        "id": "V_91rghGzWOs"
      },
      "source": [
        "def binom (n, k ,p):\r\n",
        "  return combinations(n, k) * (p ** k) * (1 - p) ** (n - k)"
      ],
      "execution_count": null,
      "outputs": []
    },
    {
      "cell_type": "markdown",
      "metadata": {
        "id": "V_ngyqNczdpc"
      },
      "source": [
        "$$p(k=85) = C_n^kp^kq^{n-k} = C_{100}^{85}p^{85}q^{15} = \\frac{100!}{85!(100-85)!}\r\n",
        "\r\n",
        "\\cdot 0.8^{85} \\cdot 0.2^{15}$$"
      ]
    },
    {
      "cell_type": "code",
      "metadata": {
        "colab": {
          "base_uri": "https://localhost:8080/"
        },
        "id": "i8ewvu7Rv1Wo",
        "outputId": "e2ca70c4-0425-4cb9-de8b-0207a74dda61"
      },
      "source": [
        "n = 100\r\n",
        "k = 85\r\n",
        "p = 0.8\r\n",
        "X = binom(n, k, p)\r\n",
        "X"
      ],
      "execution_count": null,
      "outputs": [
        {
          "output_type": "execute_result",
          "data": {
            "text/plain": [
              "0.048061793700746355"
            ]
          },
          "metadata": {
            "tags": []
          },
          "execution_count": 46
        }
      ]
    },
    {
      "cell_type": "markdown",
      "metadata": {
        "id": "UlLspg22wGXl"
      },
      "source": [
        "Ответ: P = 0.048"
      ]
    },
    {
      "cell_type": "markdown",
      "metadata": {
        "id": "JAck4pjVtsYM"
      },
      "source": [
        "**2. Вероятность того, что лампочка перегорит в течение первого дня эксплуатации, равна 0.0004. В жилом комплексе после ремонта в один день включили 5000 новых лампочек.**"
      ]
    },
    {
      "cell_type": "markdown",
      "metadata": {
        "id": "PE0--DyLwuRE"
      },
      "source": [
        "**Какова вероятность, что ни одна из них не перегорит в первый день?**"
      ]
    },
    {
      "cell_type": "code",
      "metadata": {
        "id": "gsoF99c4xnaN"
      },
      "source": [
        "def puassone(n, m, p):\r\n",
        "  lambda_ = n * p\r\n",
        "  return (lambda_**m / np.math.factorial(m)) * np.exp(-lambda_)"
      ],
      "execution_count": null,
      "outputs": []
    },
    {
      "cell_type": "code",
      "metadata": {
        "id": "MKf-3a0Hw51J"
      },
      "source": [
        "n = 5000\r\n",
        "m = 0\r\n",
        "p = 0.0004"
      ],
      "execution_count": null,
      "outputs": []
    },
    {
      "cell_type": "code",
      "metadata": {
        "colab": {
          "base_uri": "https://localhost:8080/"
        },
        "id": "OiRP2RsSyAk5",
        "outputId": "de1b3632-7142-41ab-b82b-63c61121d301"
      },
      "source": [
        "P = puassone(n, m, p)\r\n",
        "P"
      ],
      "execution_count": null,
      "outputs": [
        {
          "output_type": "execute_result",
          "data": {
            "text/plain": [
              "0.1353352832366127"
            ]
          },
          "metadata": {
            "tags": []
          },
          "execution_count": 49
        }
      ]
    },
    {
      "cell_type": "markdown",
      "metadata": {
        "id": "h1lDAN9-ybBR"
      },
      "source": [
        "Ответ: P = 0.135"
      ]
    },
    {
      "cell_type": "markdown",
      "metadata": {
        "id": "2o_Y45Juw16t"
      },
      "source": [
        " Какова вероятность, что перегорят ровно две?"
      ]
    },
    {
      "cell_type": "code",
      "metadata": {
        "id": "BFYXyMp6ypYu"
      },
      "source": [
        "n = 5000\r\n",
        "m = 2\r\n",
        "p = 0.0004"
      ],
      "execution_count": null,
      "outputs": []
    },
    {
      "cell_type": "code",
      "metadata": {
        "colab": {
          "base_uri": "https://localhost:8080/"
        },
        "id": "zTyyhP5Jyud8",
        "outputId": "b4fe953a-b8df-4c25-971a-7247e4f8241b"
      },
      "source": [
        "P = puassone(n, m, p)\r\n",
        "P"
      ],
      "execution_count": null,
      "outputs": [
        {
          "output_type": "execute_result",
          "data": {
            "text/plain": [
              "0.2706705664732254"
            ]
          },
          "metadata": {
            "tags": []
          },
          "execution_count": 51
        }
      ]
    },
    {
      "cell_type": "markdown",
      "metadata": {
        "id": "01zwvMZ9y0QL"
      },
      "source": [
        "Ответ: P = 0.27"
      ]
    },
    {
      "cell_type": "markdown",
      "metadata": {
        "id": "G78GrNcit2hI"
      },
      "source": [
        "**3. Монету подбросили 144 раза. Какова вероятность, что орел выпадет ровно 70 раз?**"
      ]
    },
    {
      "cell_type": "code",
      "metadata": {
        "id": "f7ZPnR4Jy7P3"
      },
      "source": [
        "n = 144\r\n",
        "k = 70\r\n",
        "p = 1/2"
      ],
      "execution_count": null,
      "outputs": []
    },
    {
      "cell_type": "code",
      "metadata": {
        "colab": {
          "base_uri": "https://localhost:8080/"
        },
        "id": "Xf1vr_e0zqKf",
        "outputId": "3a9f0164-288d-4746-fe4e-ffebc85a9a0d"
      },
      "source": [
        "P = binom(n, k, p)\r\n",
        "P"
      ],
      "execution_count": null,
      "outputs": [
        {
          "output_type": "execute_result",
          "data": {
            "text/plain": [
              "0.06281178035144776"
            ]
          },
          "metadata": {
            "tags": []
          },
          "execution_count": 53
        }
      ]
    },
    {
      "cell_type": "markdown",
      "metadata": {
        "id": "SpNBWM_9z0vT"
      },
      "source": [
        "Ответ: P = 0.628"
      ]
    },
    {
      "cell_type": "markdown",
      "metadata": {
        "id": "8GwkjM4fthZl"
      },
      "source": [
        "**4. В первом ящике находится 10 мячей, из которых 7 - белые. Во втором ящике - 11 мячей, из которых 9 белых. Из каждого ящика вытаскивают случайным образом по два мяча.**"
      ]
    },
    {
      "cell_type": "markdown",
      "metadata": {
        "id": "FbMgXjf-0HnN"
      },
      "source": [
        "**Какова вероятность того, что все мячи белые?**"
      ]
    },
    {
      "cell_type": "code",
      "metadata": {
        "id": "HXGtIHwtz_OR"
      },
      "source": [
        "b1 = 10\r\n",
        "b1_w = 7\r\n",
        "b2 = 11\r\n",
        "b2_w = 9\r\n",
        "k = 2"
      ],
      "execution_count": null,
      "outputs": []
    },
    {
      "cell_type": "code",
      "metadata": {
        "colab": {
          "base_uri": "https://localhost:8080/"
        },
        "id": "VB9ZrbP70jrV",
        "outputId": "bf17f938-d915-4e9a-e968-5758d704d99f"
      },
      "source": [
        "P1 = combinations(b1_w, k) / combinations(b1, k)\r\n",
        "P1"
      ],
      "execution_count": null,
      "outputs": [
        {
          "output_type": "execute_result",
          "data": {
            "text/plain": [
              "0.4666666666666667"
            ]
          },
          "metadata": {
            "tags": []
          },
          "execution_count": 55
        }
      ]
    },
    {
      "cell_type": "code",
      "metadata": {
        "colab": {
          "base_uri": "https://localhost:8080/"
        },
        "id": "lMRwqkJ72K49",
        "outputId": "8053b42c-5c23-4a21-992c-cb6adcd613bd"
      },
      "source": [
        "P2 = combinations(b2_w, k) / combinations(b2, k)\r\n",
        "P2"
      ],
      "execution_count": null,
      "outputs": [
        {
          "output_type": "execute_result",
          "data": {
            "text/plain": [
              "0.6545454545454545"
            ]
          },
          "metadata": {
            "tags": []
          },
          "execution_count": 56
        }
      ]
    },
    {
      "cell_type": "code",
      "metadata": {
        "colab": {
          "base_uri": "https://localhost:8080/"
        },
        "id": "sUbobXh_2knC",
        "outputId": "574c3d7a-9fc9-460a-c52e-b81acf4e6a12"
      },
      "source": [
        "P = P1 * P2\r\n",
        "P"
      ],
      "execution_count": null,
      "outputs": [
        {
          "output_type": "execute_result",
          "data": {
            "text/plain": [
              "0.3054545454545455"
            ]
          },
          "metadata": {
            "tags": []
          },
          "execution_count": 57
        }
      ]
    },
    {
      "cell_type": "markdown",
      "metadata": {
        "id": "SYTC_YbG2r3W"
      },
      "source": [
        "Ответ: P = 0.305"
      ]
    },
    {
      "cell_type": "markdown",
      "metadata": {
        "id": "SxfSjuan0PD9"
      },
      "source": [
        " **Какова вероятность того, что хотя бы один мяч белый?**"
      ]
    },
    {
      "cell_type": "code",
      "metadata": {
        "id": "1etI9Gm522hE",
        "colab": {
          "base_uri": "https://localhost:8080/"
        },
        "outputId": "fb83db0d-5b45-429a-ff5d-41138cbac128"
      },
      "source": [
        "# вероятность вытащить не белый мяч из ящика 1\r\n",
        "P1 = combinations(3, 2) / combinations(10, 2)\r\n",
        "P1"
      ],
      "execution_count": null,
      "outputs": [
        {
          "output_type": "execute_result",
          "data": {
            "text/plain": [
              "0.06666666666666667"
            ]
          },
          "metadata": {
            "tags": []
          },
          "execution_count": 58
        }
      ]
    },
    {
      "cell_type": "code",
      "metadata": {
        "colab": {
          "base_uri": "https://localhost:8080/"
        },
        "id": "4vomNm_52lqw",
        "outputId": "a329d1aa-4365-47a9-d24e-88047b54d316"
      },
      "source": [
        "# вероятность вытащить не белый мяч из ящика 2\r\n",
        "P2 = combinations(2, 2) / combinations(11, 2)\r\n",
        "P2"
      ],
      "execution_count": null,
      "outputs": [
        {
          "output_type": "execute_result",
          "data": {
            "text/plain": [
              "0.01818181818181818"
            ]
          },
          "metadata": {
            "tags": []
          },
          "execution_count": 59
        }
      ]
    },
    {
      "cell_type": "code",
      "metadata": {
        "colab": {
          "base_uri": "https://localhost:8080/"
        },
        "id": "DWn98vsP2tVn",
        "outputId": "219acfd0-38c1-4448-d142-c9088c63ea96"
      },
      "source": [
        "P = 1 - P1*P2\r\n",
        "P"
      ],
      "execution_count": null,
      "outputs": [
        {
          "output_type": "execute_result",
          "data": {
            "text/plain": [
              "0.9987878787878788"
            ]
          },
          "metadata": {
            "tags": []
          },
          "execution_count": 60
        }
      ]
    },
    {
      "cell_type": "markdown",
      "metadata": {
        "id": "2GXsFO-5-nE5"
      },
      "source": [
        "Ответ: P = 0.99(87)"
      ]
    },
    {
      "cell_type": "markdown",
      "metadata": {
        "id": "5Xk5AJVf1WG-"
      },
      "source": [
        "**Какова вероятность того, что ровно два мяча белые?**"
      ]
    },
    {
      "cell_type": "code",
      "metadata": {
        "id": "9_Naexth7jfg"
      },
      "source": [
        "#     BOX1            | BOX2\r\n",
        "# (1) БелыйБелый      | НеБелыйНебелый\r\n",
        "# (2) БелыйНеБелый    | БелыйНеБелый\r\n",
        "# (3) БелыйНеБелый    | НеБелыйБелый\r\n",
        "# (4) НеБелыйБелый    | БелыйНеБелый\r\n",
        "# (5) НеБелыйБелый    | НеБелыйБелый\r\n",
        "# (6) НеБелыйНеБелый  | БелыйБелый\r\n",
        "\r\n",
        "P1 = (7/10) * (6/9) * (2/11) * (1/10)\r\n",
        "P2 = (7/10) * (3/9) * (9/11) * (2/10)\r\n",
        "P3 = (7/10) * (3/9) * (2/11) * (9/10)\r\n",
        "P4 = (3/10) * (7/9) * (9/11) * (2/10)\r\n",
        "P5 = (3/10) * (7/9) * (2/11) * (9/10)\r\n",
        "P6 = (3/10) * (2/9) * (9/11) * (8/10)"
      ],
      "execution_count": null,
      "outputs": []
    },
    {
      "cell_type": "code",
      "metadata": {
        "colab": {
          "base_uri": "https://localhost:8080/"
        },
        "id": "g1zUpj49-NYC",
        "outputId": "e67546fd-558a-475c-9b57-15df94013a2d"
      },
      "source": [
        "P = P1 + P2 + P3 + P4 + P5 + P6\r\n",
        "P"
      ],
      "execution_count": null,
      "outputs": [
        {
          "output_type": "execute_result",
          "data": {
            "text/plain": [
              "0.20484848484848484"
            ]
          },
          "metadata": {
            "tags": []
          },
          "execution_count": 62
        }
      ]
    },
    {
      "cell_type": "markdown",
      "metadata": {
        "id": "TVC1j4h2-fT0"
      },
      "source": [
        "Ответ: P = 0.20(48)"
      ]
    }
  ]
}