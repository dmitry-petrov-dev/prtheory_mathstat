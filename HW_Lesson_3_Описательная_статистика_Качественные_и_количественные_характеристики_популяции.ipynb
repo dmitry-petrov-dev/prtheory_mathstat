{
  "nbformat": 4,
  "nbformat_minor": 0,
  "metadata": {
    "colab": {
      "name": "HW_Lesson_3_Описательная статистика. Качественные и количественные характеристики популяции.ipynb",
      "provenance": [],
      "authorship_tag": "ABX9TyM0fPpgY3D89XS3ZBx1HxMf",
      "include_colab_link": true
    },
    "kernelspec": {
      "name": "python3",
      "display_name": "Python 3"
    }
  },
  "cells": [
    {
      "cell_type": "markdown",
      "metadata": {
        "id": "view-in-github",
        "colab_type": "text"
      },
      "source": [
        "<a href=\"https://colab.research.google.com/github/dmitry-petrov-dev/prtheory_mathstat/blob/lesson3/HW_Lesson_3_%D0%9E%D0%BF%D0%B8%D1%81%D0%B0%D1%82%D0%B5%D0%BB%D1%8C%D0%BD%D0%B0%D1%8F_%D1%81%D1%82%D0%B0%D1%82%D0%B8%D1%81%D1%82%D0%B8%D0%BA%D0%B0_%D0%9A%D0%B0%D1%87%D0%B5%D1%81%D1%82%D0%B2%D0%B5%D0%BD%D0%BD%D1%8B%D0%B5_%D0%B8_%D0%BA%D0%BE%D0%BB%D0%B8%D1%87%D0%B5%D1%81%D1%82%D0%B2%D0%B5%D0%BD%D0%BD%D1%8B%D0%B5_%D1%85%D0%B0%D1%80%D0%B0%D0%BA%D1%82%D0%B5%D1%80%D0%B8%D1%81%D1%82%D0%B8%D0%BA%D0%B8_%D0%BF%D0%BE%D0%BF%D1%83%D0%BB%D1%8F%D1%86%D0%B8%D0%B8.ipynb\" target=\"_parent\"><img src=\"https://colab.research.google.com/assets/colab-badge.svg\" alt=\"Open In Colab\"/></a>"
      ]
    },
    {
      "cell_type": "code",
      "metadata": {
        "id": "OuXsBOlb0s1d"
      },
      "source": [
        "import numpy as np\r\n",
        "from math import sqrt, factorial"
      ],
      "execution_count": 1,
      "outputs": []
    },
    {
      "cell_type": "markdown",
      "metadata": {
        "id": "4o0vvnKE0zU4"
      },
      "source": [
        "**1. Даны значения зарплат из выборки выпускников: 100, 80, 75, 77, 89, 33, 45, 25, 65, 17, 30, 24, 57, 55, 70, 75, 65, 84, 90, 150. Посчитать (желательно без использования статистических методов наподобие std, var, mean) среднее арифметическое, среднее квадратичное отклонение, смещенную и несмещенную оценки дисперсий для данной выборки.**"
      ]
    },
    {
      "cell_type": "code",
      "metadata": {
        "colab": {
          "base_uri": "https://localhost:8080/"
        },
        "id": "s4l1NYcP1g00",
        "outputId": "bd6adaec-278b-4554-d4e6-8eada2aa61dd"
      },
      "source": [
        "zp = np.array([100, 80, 75, 77, 89, 33, 45, 25, 65, 17, 30, 24, 57, 55, 70, 75, 65, 84, 90, 150])\r\n",
        "zp"
      ],
      "execution_count": 2,
      "outputs": [
        {
          "output_type": "execute_result",
          "data": {
            "text/plain": [
              "array([100,  80,  75,  77,  89,  33,  45,  25,  65,  17,  30,  24,  57,\n",
              "        55,  70,  75,  65,  84,  90, 150])"
            ]
          },
          "metadata": {
            "tags": []
          },
          "execution_count": 2
        }
      ]
    },
    {
      "cell_type": "code",
      "metadata": {
        "colab": {
          "base_uri": "https://localhost:8080/"
        },
        "id": "r6xakFOI1tRb",
        "outputId": "774bdeba-bbe7-485b-da29-71f2e4daaf98"
      },
      "source": [
        "n = 0\r\n",
        "X = 0\r\n",
        "for el in zp:\r\n",
        "  n += 1\r\n",
        "  X += el\r\n",
        "M_X = X/n\r\n",
        "M_X"
      ],
      "execution_count": 3,
      "outputs": [
        {
          "output_type": "execute_result",
          "data": {
            "text/plain": [
              "65.3"
            ]
          },
          "metadata": {
            "tags": []
          },
          "execution_count": 3
        }
      ]
    },
    {
      "cell_type": "code",
      "metadata": {
        "colab": {
          "base_uri": "https://localhost:8080/"
        },
        "id": "id1JupNM2xzY",
        "outputId": "a6bb3cf7-5c47-4a59-9967-d0b43af4c97a"
      },
      "source": [
        "# проверка\r\n",
        "zp.mean()"
      ],
      "execution_count": 4,
      "outputs": [
        {
          "output_type": "execute_result",
          "data": {
            "text/plain": [
              "65.3"
            ]
          },
          "metadata": {
            "tags": []
          },
          "execution_count": 4
        }
      ]
    },
    {
      "cell_type": "code",
      "metadata": {
        "colab": {
          "base_uri": "https://localhost:8080/"
        },
        "id": "SrsnRGmX28R8",
        "outputId": "5cc87c95-97ec-4aea-ae45-f9822c74db7d"
      },
      "source": [
        "sigma = sqrt(np.sum((zp - M_X)**2)/len(zp))\r\n",
        "sigma"
      ],
      "execution_count": 5,
      "outputs": [
        {
          "output_type": "execute_result",
          "data": {
            "text/plain": [
              "30.823854398825596"
            ]
          },
          "metadata": {
            "tags": []
          },
          "execution_count": 5
        }
      ]
    },
    {
      "cell_type": "code",
      "metadata": {
        "colab": {
          "base_uri": "https://localhost:8080/"
        },
        "id": "CNIwm2R228VW",
        "outputId": "6dc40415-c5ca-4507-ed95-461ef0a6765f"
      },
      "source": [
        "# проверка\r\n",
        "zp.std()"
      ],
      "execution_count": 6,
      "outputs": [
        {
          "output_type": "execute_result",
          "data": {
            "text/plain": [
              "30.823854398825596"
            ]
          },
          "metadata": {
            "tags": []
          },
          "execution_count": 6
        }
      ]
    },
    {
      "cell_type": "code",
      "metadata": {
        "colab": {
          "base_uri": "https://localhost:8080/"
        },
        "id": "TJZKRg-y3rIN",
        "outputId": "e2f09c78-4495-487b-ec29-eb2bb238f640"
      },
      "source": [
        "sigma**2"
      ],
      "execution_count": 7,
      "outputs": [
        {
          "output_type": "execute_result",
          "data": {
            "text/plain": [
              "950.11"
            ]
          },
          "metadata": {
            "tags": []
          },
          "execution_count": 7
        }
      ]
    },
    {
      "cell_type": "code",
      "metadata": {
        "colab": {
          "base_uri": "https://localhost:8080/"
        },
        "id": "Bhu3EZZB3i7H",
        "outputId": "697d96ff-7dd8-4fdd-cdf4-0d577cd1bebe"
      },
      "source": [
        "# проверка\r\n",
        "zp.var()"
      ],
      "execution_count": 8,
      "outputs": [
        {
          "output_type": "execute_result",
          "data": {
            "text/plain": [
              "950.11"
            ]
          },
          "metadata": {
            "tags": []
          },
          "execution_count": 8
        }
      ]
    },
    {
      "cell_type": "code",
      "metadata": {
        "colab": {
          "base_uri": "https://localhost:8080/"
        },
        "id": "3cAUNuqI3vfm",
        "outputId": "21a458d2-50fa-4e86-cc02-853cd7f04abe"
      },
      "source": [
        "np.sum((zp - M_X)**2)/(len(zp)-1)"
      ],
      "execution_count": 9,
      "outputs": [
        {
          "output_type": "execute_result",
          "data": {
            "text/plain": [
              "1000.1157894736842"
            ]
          },
          "metadata": {
            "tags": []
          },
          "execution_count": 9
        }
      ]
    },
    {
      "cell_type": "code",
      "metadata": {
        "colab": {
          "base_uri": "https://localhost:8080/"
        },
        "id": "mRZ6uDV23l4b",
        "outputId": "535e39c2-5bcd-405b-ef27-3fde2a130188"
      },
      "source": [
        "# проверка\r\n",
        "zp.var(ddof=1)"
      ],
      "execution_count": 10,
      "outputs": [
        {
          "output_type": "execute_result",
          "data": {
            "text/plain": [
              "1000.1157894736842"
            ]
          },
          "metadata": {
            "tags": []
          },
          "execution_count": 10
        }
      ]
    },
    {
      "cell_type": "markdown",
      "metadata": {
        "id": "GgPTzgKa01iW"
      },
      "source": [
        "**2. В первом ящике находится 8 мячей, из которых 5 - белые. Во втором ящике - 12 мячей, из которых 5 белых. Из первого ящика вытаскивают случайным образом два мяча, из второго - 4. Какова вероятность того, что 3 мяча белые?**"
      ]
    },
    {
      "cell_type": "code",
      "metadata": {
        "id": "ozQJabl34tVP"
      },
      "source": [
        "def combinations(n, k):\r\n",
        "    return int(factorial(n) / (factorial(k) * factorial(n - k)))"
      ],
      "execution_count": 11,
      "outputs": []
    },
    {
      "cell_type": "code",
      "metadata": {
        "id": "pCCeYB6T4AIY"
      },
      "source": [
        "V1 = 8\r\n",
        "V1_white = 5\r\n",
        "V2 = 12\r\n",
        "V2_white = 5"
      ],
      "execution_count": 12,
      "outputs": []
    },
    {
      "cell_type": "code",
      "metadata": {
        "colab": {
          "base_uri": "https://localhost:8080/"
        },
        "id": "zgACP8bY4xd7",
        "outputId": "bbd495e1-0b29-4600-b5c9-bad224336c1e"
      },
      "source": [
        "# из первого вытаскивают 1 белый, из второго 2 белых\r\n",
        "P1 = (combinations(V1_white, 1)*combinations(V1-V1_white, 1))/combinations(V1,2)*((combinations(V2_white, 2)*combinations(V2-V2_white, 2))/combinations(V2,4))\r\n",
        "P1"
      ],
      "execution_count": 13,
      "outputs": [
        {
          "output_type": "execute_result",
          "data": {
            "text/plain": [
              "0.22727272727272727"
            ]
          },
          "metadata": {
            "tags": []
          },
          "execution_count": 13
        }
      ]
    },
    {
      "cell_type": "code",
      "metadata": {
        "colab": {
          "base_uri": "https://localhost:8080/"
        },
        "id": "pJ7loXLN75A1",
        "outputId": "83ea5afd-1ec8-4f4a-e614-a925ff9a971b"
      },
      "source": [
        "# из первого вытаскивают 2 белых, из второго 1 белый\r\n",
        "P2 = (combinations(V1_white, 2)*combinations(V1-V1_white, 0))/combinations(V1,2)*((combinations(V2_white, 1)*combinations(V2-V2_white, 3))/combinations(V2,4))\r\n",
        "P2"
      ],
      "execution_count": 14,
      "outputs": [
        {
          "output_type": "execute_result",
          "data": {
            "text/plain": [
              "0.12626262626262627"
            ]
          },
          "metadata": {
            "tags": []
          },
          "execution_count": 14
        }
      ]
    },
    {
      "cell_type": "code",
      "metadata": {
        "colab": {
          "base_uri": "https://localhost:8080/"
        },
        "id": "bBfciVa559ZR",
        "outputId": "959ab6df-adfc-411a-b7d2-e8f0b29ffd5e"
      },
      "source": [
        "# из первого вытаскивают 0 белых, из второго 3 белых\r\n",
        "P3 = (combinations(V1_white, 0)*combinations(V1-V1_white, 2))/combinations(V1,2)*((combinations(V2_white, 3)*combinations(V2-V2_white, 1))/combinations(V2,4))\r\n",
        "P3"
      ],
      "execution_count": 15,
      "outputs": [
        {
          "output_type": "execute_result",
          "data": {
            "text/plain": [
              "0.01515151515151515"
            ]
          },
          "metadata": {
            "tags": []
          },
          "execution_count": 15
        }
      ]
    },
    {
      "cell_type": "code",
      "metadata": {
        "colab": {
          "base_uri": "https://localhost:8080/"
        },
        "id": "fxOi-cOV8Ert",
        "outputId": "8a9460b5-16fc-4f1d-a72d-f016d53b41f4"
      },
      "source": [
        "P = P1 + P2 + P3\r\n",
        "P"
      ],
      "execution_count": 16,
      "outputs": [
        {
          "output_type": "execute_result",
          "data": {
            "text/plain": [
              "0.3686868686868687"
            ]
          },
          "metadata": {
            "tags": []
          },
          "execution_count": 16
        }
      ]
    },
    {
      "cell_type": "markdown",
      "metadata": {
        "id": "sPUFvnXW05Uf"
      },
      "source": [
        "**3. На соревновании по биатлону один из трех спортсменов стреляет и попадает в мишень. Вероятность попадания для первого спортсмена равна 0.9, для второго — 0.8, для третьего — 0.6. Найти вероятность того, что выстрел произведен: a). первым спортсменом б). вторым спортсменом в). третьим спортсменом.**"
      ]
    },
    {
      "cell_type": "code",
      "metadata": {
        "id": "3eq-ljT58Wt8"
      },
      "source": [
        "p1 = 0.9\r\n",
        "p2 = 0.8\r\n",
        "p3 = 0.6"
      ],
      "execution_count": 17,
      "outputs": []
    },
    {
      "cell_type": "code",
      "metadata": {
        "colab": {
          "base_uri": "https://localhost:8080/"
        },
        "id": "JxJ6XuEA8mb1",
        "outputId": "815831a2-29db-4449-c643-50929444234a"
      },
      "source": [
        "P =  1/3 * p1 + 1/3 * p2 + 1/3 * p3\r\n",
        "P"
      ],
      "execution_count": 18,
      "outputs": [
        {
          "output_type": "execute_result",
          "data": {
            "text/plain": [
              "0.7666666666666666"
            ]
          },
          "metadata": {
            "tags": []
          },
          "execution_count": 18
        }
      ]
    },
    {
      "cell_type": "code",
      "metadata": {
        "colab": {
          "base_uri": "https://localhost:8080/"
        },
        "id": "RKZHHT3L9_EH",
        "outputId": "934d6f7a-1aaa-4c1c-fe21-b9c41e9a4ea3"
      },
      "source": [
        "P1 = 1/3*p1/P\r\n",
        "P1"
      ],
      "execution_count": 19,
      "outputs": [
        {
          "output_type": "execute_result",
          "data": {
            "text/plain": [
              "0.391304347826087"
            ]
          },
          "metadata": {
            "tags": []
          },
          "execution_count": 19
        }
      ]
    },
    {
      "cell_type": "code",
      "metadata": {
        "colab": {
          "base_uri": "https://localhost:8080/"
        },
        "id": "uoc_NHqr-I_o",
        "outputId": "49419d3b-edaf-486c-dc4f-899a3dafecce"
      },
      "source": [
        "P2 = 1/3*p2/P\r\n",
        "P2"
      ],
      "execution_count": 20,
      "outputs": [
        {
          "output_type": "execute_result",
          "data": {
            "text/plain": [
              "0.3478260869565218"
            ]
          },
          "metadata": {
            "tags": []
          },
          "execution_count": 20
        }
      ]
    },
    {
      "cell_type": "code",
      "metadata": {
        "colab": {
          "base_uri": "https://localhost:8080/"
        },
        "id": "0WZ_40dP-JH_",
        "outputId": "80b3d87c-eecd-43e2-fe31-0ee08dcdfd41"
      },
      "source": [
        "P3 = 1/3*p3/P\r\n",
        "P3"
      ],
      "execution_count": 21,
      "outputs": [
        {
          "output_type": "execute_result",
          "data": {
            "text/plain": [
              "0.2608695652173913"
            ]
          },
          "metadata": {
            "tags": []
          },
          "execution_count": 21
        }
      ]
    },
    {
      "cell_type": "markdown",
      "metadata": {
        "id": "04m2j_Cn08Z9"
      },
      "source": [
        "**4. В университет на факультеты A и B поступило равное количество студентов, а на факультет C студентов поступило столько же, сколько на A и B вместе. Вероятность того, что студент факультета A сдаст первую сессию, равна 0.8. Для студента факультета B эта вероятность равна 0.7, а для студента факультета C - 0.9. Студент сдал первую сессию. Какова вероятность, что он учится: a). на факультете A б). на факультете B в). на факультете C?**"
      ]
    },
    {
      "cell_type": "code",
      "metadata": {
        "id": "j2D19Jgd-TkZ"
      },
      "source": [
        "pA = 0.8\r\n",
        "pB = 0.7\r\n",
        "pC = 0.9"
      ],
      "execution_count": 22,
      "outputs": []
    },
    {
      "cell_type": "code",
      "metadata": {
        "id": "dERq7EcD-ln-"
      },
      "source": [
        "PstudA = PstudB = 0.25\r\n",
        "PstudC = 0.5"
      ],
      "execution_count": 23,
      "outputs": []
    },
    {
      "cell_type": "code",
      "metadata": {
        "colab": {
          "base_uri": "https://localhost:8080/"
        },
        "id": "O_2ZmdPN-y60",
        "outputId": "0896213c-79a0-4480-bcb6-3e0e22b48bbf"
      },
      "source": [
        "P = PstudA * pA + PstudB * pB + PstudC * pC\r\n",
        "P"
      ],
      "execution_count": 24,
      "outputs": [
        {
          "output_type": "execute_result",
          "data": {
            "text/plain": [
              "0.825"
            ]
          },
          "metadata": {
            "tags": []
          },
          "execution_count": 24
        }
      ]
    },
    {
      "cell_type": "code",
      "metadata": {
        "colab": {
          "base_uri": "https://localhost:8080/"
        },
        "id": "Yhj18k4M_CH5",
        "outputId": "d75e541e-c278-4ed1-bf6c-763fd974fdef"
      },
      "source": [
        "P1 = PstudA * pA / P\r\n",
        "P1"
      ],
      "execution_count": 25,
      "outputs": [
        {
          "output_type": "execute_result",
          "data": {
            "text/plain": [
              "0.24242424242424246"
            ]
          },
          "metadata": {
            "tags": []
          },
          "execution_count": 25
        }
      ]
    },
    {
      "cell_type": "code",
      "metadata": {
        "colab": {
          "base_uri": "https://localhost:8080/"
        },
        "id": "PIZDNuuP_L10",
        "outputId": "bcefb237-12f9-481f-a126-7d5377db6ea3"
      },
      "source": [
        "P2 = PstudB * pB / P\r\n",
        "P2"
      ],
      "execution_count": 26,
      "outputs": [
        {
          "output_type": "execute_result",
          "data": {
            "text/plain": [
              "0.21212121212121213"
            ]
          },
          "metadata": {
            "tags": []
          },
          "execution_count": 26
        }
      ]
    },
    {
      "cell_type": "code",
      "metadata": {
        "colab": {
          "base_uri": "https://localhost:8080/"
        },
        "id": "bikikWth_L5k",
        "outputId": "0ecccddd-4fb0-4a1b-aba3-fc479e9d452b"
      },
      "source": [
        "P3 = PstudC * pC / P\r\n",
        "P3"
      ],
      "execution_count": 27,
      "outputs": [
        {
          "output_type": "execute_result",
          "data": {
            "text/plain": [
              "0.5454545454545455"
            ]
          },
          "metadata": {
            "tags": []
          },
          "execution_count": 27
        }
      ]
    },
    {
      "cell_type": "markdown",
      "metadata": {
        "id": "paz5N6mE1BTM"
      },
      "source": [
        "**5. Устройство состоит из трех деталей. Для первой детали вероятность выйти из строя в первый месяц равна 0.1, для второй - 0.2, для третьей - 0.25. Какова вероятность того, что в первый месяц выйдут из строя: а). все детали б). только две детали в). хотя бы одна деталь г). от одной до двух деталей?**"
      ]
    },
    {
      "cell_type": "code",
      "metadata": {
        "id": "j6ymKcEn_U9R"
      },
      "source": [
        "p1 = 0.1\r\n",
        "p2 = 0.2\r\n",
        "p3 = 0.25"
      ],
      "execution_count": 28,
      "outputs": []
    },
    {
      "cell_type": "code",
      "metadata": {
        "colab": {
          "base_uri": "https://localhost:8080/"
        },
        "id": "EdyeB4-e_cLf",
        "outputId": "c5db2ab4-3bb1-4d68-c376-6b2549ebe118"
      },
      "source": [
        "# а) все детали\r\n",
        "p1*p2*p3"
      ],
      "execution_count": 29,
      "outputs": [
        {
          "output_type": "execute_result",
          "data": {
            "text/plain": [
              "0.005000000000000001"
            ]
          },
          "metadata": {
            "tags": []
          },
          "execution_count": 29
        }
      ]
    },
    {
      "cell_type": "code",
      "metadata": {
        "colab": {
          "base_uri": "https://localhost:8080/"
        },
        "id": "2LBvTNMT_nRg",
        "outputId": "62c2d2e8-0eb0-4609-b927-4c2418b08c67"
      },
      "source": [
        "# б) только две детали\r\n",
        "(1-p1)*p2*p3 + p1*(1-p2)*p3 + p1*p2*(1-p3)"
      ],
      "execution_count": 30,
      "outputs": [
        {
          "output_type": "execute_result",
          "data": {
            "text/plain": [
              "0.08"
            ]
          },
          "metadata": {
            "tags": []
          },
          "execution_count": 30
        }
      ]
    },
    {
      "cell_type": "code",
      "metadata": {
        "colab": {
          "base_uri": "https://localhost:8080/"
        },
        "id": "UwEeqfDZAELu",
        "outputId": "7c22b2dd-ffa6-413e-a86c-e8845a11e4e5"
      },
      "source": [
        "# в) хотя бы одна деталь\r\n",
        "1 - (1-p1)*(1-p2)*(1-p3)"
      ],
      "execution_count": 31,
      "outputs": [
        {
          "output_type": "execute_result",
          "data": {
            "text/plain": [
              "0.45999999999999996"
            ]
          },
          "metadata": {
            "tags": []
          },
          "execution_count": 31
        }
      ]
    },
    {
      "cell_type": "code",
      "metadata": {
        "colab": {
          "base_uri": "https://localhost:8080/"
        },
        "id": "nKmCCAtrAexc",
        "outputId": "25dbff82-5b6b-4a1a-9d5b-3d62e5cd60b8"
      },
      "source": [
        "# г) от одной до двух деталей\r\n",
        "1 - (1-p1)*(1-p2)*(1-p3) - p1*p2*p3"
      ],
      "execution_count": 32,
      "outputs": [
        {
          "output_type": "execute_result",
          "data": {
            "text/plain": [
              "0.45499999999999996"
            ]
          },
          "metadata": {
            "tags": []
          },
          "execution_count": 32
        }
      ]
    }
  ]
}