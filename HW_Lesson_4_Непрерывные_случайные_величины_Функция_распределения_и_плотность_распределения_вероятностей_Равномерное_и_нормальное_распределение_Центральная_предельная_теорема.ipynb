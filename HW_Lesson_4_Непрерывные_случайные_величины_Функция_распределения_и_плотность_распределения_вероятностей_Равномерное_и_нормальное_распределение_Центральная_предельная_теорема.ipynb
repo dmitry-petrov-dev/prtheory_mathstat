{
  "nbformat": 4,
  "nbformat_minor": 0,
  "metadata": {
    "colab": {
      "name": "HW_Lesson_4. Непрерывные случайные величины. Функция распределения и плотность распределения вероятностей. Равномерное и нормальное распределение. Центральная предельная теорема",
      "provenance": [],
      "authorship_tag": "ABX9TyOo/bl7CEaXel4QHUt6/ZAX",
      "include_colab_link": true
    },
    "kernelspec": {
      "name": "python3",
      "display_name": "Python 3"
    }
  },
  "cells": [
    {
      "cell_type": "markdown",
      "metadata": {
        "id": "view-in-github",
        "colab_type": "text"
      },
      "source": [
        "<a href=\"https://colab.research.google.com/github/dmitry-petrov-dev/prtheory_mathstat/blob/lesson4/HW_Lesson_4_%D0%9D%D0%B5%D0%BF%D1%80%D0%B5%D1%80%D1%8B%D0%B2%D0%BD%D1%8B%D0%B5_%D1%81%D0%BB%D1%83%D1%87%D0%B0%D0%B9%D0%BD%D1%8B%D0%B5_%D0%B2%D0%B5%D0%BB%D0%B8%D1%87%D0%B8%D0%BD%D1%8B_%D0%A4%D1%83%D0%BD%D0%BA%D1%86%D0%B8%D1%8F_%D1%80%D0%B0%D1%81%D0%BF%D1%80%D0%B5%D0%B4%D0%B5%D0%BB%D0%B5%D0%BD%D0%B8%D1%8F_%D0%B8_%D0%BF%D0%BB%D0%BE%D1%82%D0%BD%D0%BE%D1%81%D1%82%D1%8C_%D1%80%D0%B0%D1%81%D0%BF%D1%80%D0%B5%D0%B4%D0%B5%D0%BB%D0%B5%D0%BD%D0%B8%D1%8F_%D0%B2%D0%B5%D1%80%D0%BE%D1%8F%D1%82%D0%BD%D0%BE%D1%81%D1%82%D0%B5%D0%B9_%D0%A0%D0%B0%D0%B2%D0%BD%D0%BE%D0%BC%D0%B5%D1%80%D0%BD%D0%BE%D0%B5_%D0%B8_%D0%BD%D0%BE%D1%80%D0%BC%D0%B0%D0%BB%D1%8C%D0%BD%D0%BE%D0%B5_%D1%80%D0%B0%D1%81%D0%BF%D1%80%D0%B5%D0%B4%D0%B5%D0%BB%D0%B5%D0%BD%D0%B8%D0%B5_%D0%A6%D0%B5%D0%BD%D1%82%D1%80%D0%B0%D0%BB%D1%8C%D0%BD%D0%B0%D1%8F_%D0%BF%D1%80%D0%B5%D0%B4%D0%B5%D0%BB%D1%8C%D0%BD%D0%B0%D1%8F_%D1%82%D0%B5%D0%BE%D1%80%D0%B5%D0%BC%D0%B0.ipynb\" target=\"_parent\"><img src=\"https://colab.research.google.com/assets/colab-badge.svg\" alt=\"Open In Colab\"/></a>"
      ]
    },
    {
      "cell_type": "code",
      "metadata": {
        "id": "jcbCmgXVFJ1a"
      },
      "source": [
        ""
      ],
      "execution_count": null,
      "outputs": []
    },
    {
      "cell_type": "markdown",
      "metadata": {
        "id": "q3T6IJBBFQa5"
      },
      "source": [
        "**1. Случайная непрерывная величина A имеет равномерное распределение на промежутке (200, 800].\r\n",
        "Найдите ее среднее значение и дисперсию.**\r\n",
        "\r\n"
      ]
    },
    {
      "cell_type": "markdown",
      "metadata": {
        "id": "BPeVUvONLBP-"
      },
      "source": [
        "Математическое ожидание:\r\n",
        "$$M(X) = \\frac{a + b}{2} = 500 $$\r\n",
        "Дисперсия:\r\n",
        "$$D(X) = \\frac{(b-a)^2}{12} = \\frac{360000}{12} = 30000$$"
      ]
    },
    {
      "cell_type": "markdown",
      "metadata": {
        "id": "YeRoUC6iOtXE"
      },
      "source": [
        "**2. О случайной непрерывной равномерно распределенной величине B известно, что ее дисперсия равна 0.2.\r\n",
        "Можно ли найти правую границу величины B и ее среднее значение зная, что левая граница равна 0.5?\r\n",
        "Если да, найдите ее.**"
      ]
    },
    {
      "cell_type": "code",
      "metadata": {
        "id": "yPibj8L4RdbB"
      },
      "source": [
        "import math\r\n",
        "from scipy.optimize import fsolve"
      ],
      "execution_count": 1,
      "outputs": []
    },
    {
      "cell_type": "code",
      "metadata": {
        "id": "gQqst1xgRzq4"
      },
      "source": [
        "D_x = 0.2 # дисперсия\r\n",
        "a = 0.5 # левая граница"
      ],
      "execution_count": 2,
      "outputs": []
    },
    {
      "cell_type": "code",
      "metadata": {
        "id": "4a6CxyIyRfyf"
      },
      "source": [
        "def func(x):\r\n",
        "  return (((x-a)**2)/12) - D_x "
      ],
      "execution_count": 3,
      "outputs": []
    },
    {
      "cell_type": "code",
      "metadata": {
        "colab": {
          "base_uri": "https://localhost:8080/"
        },
        "id": "AhSDYu8VO0LV",
        "outputId": "4c8c1b5e-efb0-42c9-9e9c-36936030d0a5"
      },
      "source": [
        "b = float(fsolve(func, 1))\r\n",
        "print(f'Правая граница b = {b:.3f}')"
      ],
      "execution_count": 4,
      "outputs": [
        {
          "output_type": "stream",
          "text": [
            "Правая граница b = 2.049\n"
          ],
          "name": "stdout"
        }
      ]
    },
    {
      "cell_type": "code",
      "metadata": {
        "colab": {
          "base_uri": "https://localhost:8080/"
        },
        "id": "ApRxVj0NTwEU",
        "outputId": "dd14a7de-407e-4973-caf4-b150266c419b"
      },
      "source": [
        "M_x = (a + b)/2\r\n",
        "print(f'Среднее значение = {M_x:.3f}')"
      ],
      "execution_count": 5,
      "outputs": [
        {
          "output_type": "stream",
          "text": [
            "Среднее значение = 1.275\n"
          ],
          "name": "stdout"
        }
      ]
    },
    {
      "cell_type": "markdown",
      "metadata": {
        "id": "EYI875IlT-A0"
      },
      "source": [
        "**3. Непрерывная случайная величина X распределена нормально и задана плотностью распределения**\r\n",
        "\r\n",
        "$$f(x) =  \\frac{1}{4\\sqrt{2\\pi}}e^{-\\frac{(x+2)^2}{32}}$$\r\n",
        "\r\n",
        "Найдите:\r\n",
        "\r\n",
        "а). M(X)\r\n",
        "\r\n",
        "б). D(X)\r\n",
        "\r\n",
        "в). std(X) (среднее квадратичное отклонение)"
      ]
    },
    {
      "cell_type": "markdown",
      "metadata": {
        "id": "tghEli8pVqZq"
      },
      "source": [
        "a) $ M(x) = -2$\r\n",
        "\r\n",
        "б) $\\sigma^2 = D(X) = 16$\r\n",
        "\r\n",
        "в) $std(X) = \\sigma = 4$"
      ]
    },
    {
      "cell_type": "markdown",
      "metadata": {
        "id": "Q1PT8_sHXHvD"
      },
      "source": [
        "**4. Рост взрослого населения города X имеет нормальное распределение.\r\n",
        "Причем, средний рост равен 174 см, а среднее квадратичное отклонение равно 8 см.\r\n",
        "Какова вероятность того, что случайным образом выбранный взрослый человек имеет рост:**\r\n",
        "а). больше 182 см\r\n",
        "\r\n",
        "б). больше 190 см\r\n",
        "\r\n",
        "в). от 166 см до 190 см\r\n",
        "\r\n",
        "г). от 166 см до 182 см\r\n",
        "\r\n",
        "д). от 158 см до 190 см\r\n",
        "\r\n",
        "е). не выше 150 см или не ниже 190 см\r\n",
        "\r\n",
        "ё). не выше 150 см или не ниже 198 см\r\n",
        "\r\n",
        "ж). ниже 166 см."
      ]
    },
    {
      "cell_type": "markdown",
      "metadata": {
        "id": "SL_V7dhPc1_I"
      },
      "source": [
        "$M(x) = 174$\r\n",
        "\r\n",
        "$\\sigma = 8$\r\n",
        "\r\n",
        "воспользуемся правилом трех сигм:\r\n",
        "\r\n",
        "от -sigma до +sigma - 68,26%, от 0 до sigma 68,26%/2 = 34,13%\r\n",
        "\r\n",
        "от -2*sigma до +2*sigma - 95,45%, от sigma до 2*sigma = (95,45-68,26)/2 = 13,6%  \r\n",
        "\r\n",
        "от -3*sigma до +3*sigma - 99,73%, от 2*sigma до 3*sigma = (99,73-95,45)/2 = 2,14%\r\n",
        "\r\n",
        "от 3 sigma - (100-99,73)/2 = 0,14%\r\n",
        "\r\n",
        "Тогда вероятности будут следующими:"
      ]
    },
    {
      "cell_type": "code",
      "metadata": {
        "colab": {
          "base_uri": "https://localhost:8080/"
        },
        "id": "zUFuCLycdJXZ",
        "outputId": "2e351501-323e-4260-8225-8bc44b8802bb"
      },
      "source": [
        "# а). больше 182 см\r\n",
        "P = 13.6+2.14+0.14\r\n",
        "P"
      ],
      "execution_count": 6,
      "outputs": [
        {
          "output_type": "execute_result",
          "data": {
            "text/plain": [
              "15.88"
            ]
          },
          "metadata": {
            "tags": []
          },
          "execution_count": 6
        }
      ]
    },
    {
      "cell_type": "code",
      "metadata": {
        "colab": {
          "base_uri": "https://localhost:8080/"
        },
        "id": "uRoeCW2JduL-",
        "outputId": "30c222e0-69b9-4099-dc3f-37bd73e04de0"
      },
      "source": [
        "# б). больше 190 см\r\n",
        "P = 2.14+0.14\r\n",
        "P"
      ],
      "execution_count": 7,
      "outputs": [
        {
          "output_type": "execute_result",
          "data": {
            "text/plain": [
              "2.2800000000000002"
            ]
          },
          "metadata": {
            "tags": []
          },
          "execution_count": 7
        }
      ]
    },
    {
      "cell_type": "code",
      "metadata": {
        "colab": {
          "base_uri": "https://localhost:8080/"
        },
        "id": "UjmgIySidxsl",
        "outputId": "e292f278-4a73-421a-c0ae-581005d846de"
      },
      "source": [
        "# в). от 166 см до 190 см\r\n",
        "P = 68.26+13.6\r\n",
        "P"
      ],
      "execution_count": 8,
      "outputs": [
        {
          "output_type": "execute_result",
          "data": {
            "text/plain": [
              "81.86"
            ]
          },
          "metadata": {
            "tags": []
          },
          "execution_count": 8
        }
      ]
    },
    {
      "cell_type": "code",
      "metadata": {
        "colab": {
          "base_uri": "https://localhost:8080/"
        },
        "id": "HgnDhzJhde3R",
        "outputId": "0acbc17f-0907-4486-af5d-e5fe9940f769"
      },
      "source": [
        "# г). от 166 см до 182 см\r\n",
        "P = 68.26\r\n",
        "P"
      ],
      "execution_count": 9,
      "outputs": [
        {
          "output_type": "execute_result",
          "data": {
            "text/plain": [
              "68.26"
            ]
          },
          "metadata": {
            "tags": []
          },
          "execution_count": 9
        }
      ]
    },
    {
      "cell_type": "code",
      "metadata": {
        "colab": {
          "base_uri": "https://localhost:8080/"
        },
        "id": "_RvcNPAkeGvY",
        "outputId": "f1c14752-27f3-4422-e335-808dbd71b442"
      },
      "source": [
        "# д). от 158 см до 190 см\r\n",
        "P = 95.45\r\n",
        "P"
      ],
      "execution_count": 10,
      "outputs": [
        {
          "output_type": "execute_result",
          "data": {
            "text/plain": [
              "95.45"
            ]
          },
          "metadata": {
            "tags": []
          },
          "execution_count": 10
        }
      ]
    },
    {
      "cell_type": "code",
      "metadata": {
        "colab": {
          "base_uri": "https://localhost:8080/"
        },
        "id": "kD2_a2aUeGzm",
        "outputId": "caff71fd-ab49-4479-e293-6c38d8bbffd9"
      },
      "source": [
        "# е). не выше 150 см или не ниже 190 см\r\n",
        "P = 0.14+2.14+0.14\r\n",
        "P"
      ],
      "execution_count": 11,
      "outputs": [
        {
          "output_type": "execute_result",
          "data": {
            "text/plain": [
              "2.4200000000000004"
            ]
          },
          "metadata": {
            "tags": []
          },
          "execution_count": 11
        }
      ]
    },
    {
      "cell_type": "code",
      "metadata": {
        "colab": {
          "base_uri": "https://localhost:8080/"
        },
        "id": "zL10JgamebnW",
        "outputId": "f58d4ea6-a462-4de2-eb8a-75eba2a0897d"
      },
      "source": [
        "# ё). не выше 150 см или не ниже 198 см\r\n",
        "P = 0.14+0.14\r\n",
        "P"
      ],
      "execution_count": 12,
      "outputs": [
        {
          "output_type": "execute_result",
          "data": {
            "text/plain": [
              "0.28"
            ]
          },
          "metadata": {
            "tags": []
          },
          "execution_count": 12
        }
      ]
    },
    {
      "cell_type": "code",
      "metadata": {
        "colab": {
          "base_uri": "https://localhost:8080/"
        },
        "id": "HZTanjBPeb2G",
        "outputId": "7691ed90-586a-48c3-cc4f-68faec713fe1"
      },
      "source": [
        "# ж). ниже 166 см.\r\n",
        "P = 0.14+2.14+13.6\r\n",
        "P"
      ],
      "execution_count": 13,
      "outputs": [
        {
          "output_type": "execute_result",
          "data": {
            "text/plain": [
              "15.879999999999999"
            ]
          },
          "metadata": {
            "tags": []
          },
          "execution_count": 13
        }
      ]
    },
    {
      "cell_type": "markdown",
      "metadata": {
        "id": "SgtoaNrUJ9jn"
      },
      "source": [
        "**5. На сколько сигм (средних квадратичных отклонений) отклоняется рост человека, равный 190 см, от\r\n",
        "математического ожидания роста в популяции, в которой M(X) = 178 см и D(X) = 25 кв.см?**"
      ]
    },
    {
      "cell_type": "code",
      "metadata": {
        "id": "NKtMqSeafxSo"
      },
      "source": [
        "M_x=178\r\n",
        "D_x=25\r\n",
        "x=190"
      ],
      "execution_count": 14,
      "outputs": []
    },
    {
      "cell_type": "markdown",
      "metadata": {
        "id": "Lfyv9W_qgIO_"
      },
      "source": [
        "$\\sigma=\\sqrt{D(x)}$=5"
      ]
    },
    {
      "cell_type": "code",
      "metadata": {
        "colab": {
          "base_uri": "https://localhost:8080/"
        },
        "id": "RDni0WEegZsQ",
        "outputId": "876979a5-5ada-4aa6-a772-16823c96cbb5"
      },
      "source": [
        "(x-M_x)/5"
      ],
      "execution_count": 15,
      "outputs": [
        {
          "output_type": "execute_result",
          "data": {
            "text/plain": [
              "2.4"
            ]
          },
          "metadata": {
            "tags": []
          },
          "execution_count": 15
        }
      ]
    }
  ]
}