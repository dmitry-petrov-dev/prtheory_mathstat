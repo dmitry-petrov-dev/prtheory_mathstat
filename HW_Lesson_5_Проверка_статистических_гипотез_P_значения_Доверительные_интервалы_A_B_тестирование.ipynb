{
  "nbformat": 4,
  "nbformat_minor": 0,
  "metadata": {
    "colab": {
      "name": "HW_Lesson_5. Проверка статистических гипотез. P-значения. Доверительные интервалы. A/B-тестирование.ipynb",
      "provenance": [],
      "collapsed_sections": [],
      "authorship_tag": "ABX9TyOL0cJlVq/i9vCRdB/EKmPO",
      "include_colab_link": true
    },
    "kernelspec": {
      "name": "python3",
      "display_name": "Python 3"
    }
  },
  "cells": [
    {
      "cell_type": "markdown",
      "metadata": {
        "id": "view-in-github",
        "colab_type": "text"
      },
      "source": [
        "<a href=\"https://colab.research.google.com/github/dmitry-petrov-dev/prtheory_mathstat/blob/lesson5/HW_Lesson_5_%D0%9F%D1%80%D0%BE%D0%B2%D0%B5%D1%80%D0%BA%D0%B0_%D1%81%D1%82%D0%B0%D1%82%D0%B8%D1%81%D1%82%D0%B8%D1%87%D0%B5%D1%81%D0%BA%D0%B8%D1%85_%D0%B3%D0%B8%D0%BF%D0%BE%D1%82%D0%B5%D0%B7_P_%D0%B7%D0%BD%D0%B0%D1%87%D0%B5%D0%BD%D0%B8%D1%8F_%D0%94%D0%BE%D0%B2%D0%B5%D1%80%D0%B8%D1%82%D0%B5%D0%BB%D1%8C%D0%BD%D1%8B%D0%B5_%D0%B8%D0%BD%D1%82%D0%B5%D1%80%D0%B2%D0%B0%D0%BB%D1%8B_A_B_%D1%82%D0%B5%D1%81%D1%82%D0%B8%D1%80%D0%BE%D0%B2%D0%B0%D0%BD%D0%B8%D0%B5.ipynb\" target=\"_parent\"><img src=\"https://colab.research.google.com/assets/colab-badge.svg\" alt=\"Open In Colab\"/></a>"
      ]
    },
    {
      "cell_type": "markdown",
      "metadata": {
        "id": "DLS595B_NPy5"
      },
      "source": [
        "**1. Известно, что генеральная совокупность распределена нормально со средним квадратическим отклонением, равным 16. Найти доверительный интервал для оценки математического ожидания a с надежностью 0.95, если выборочная средняя M = 80, а объем выборки n = 256.**"
      ]
    },
    {
      "cell_type": "code",
      "metadata": {
        "id": "m4SoAvukTpPW"
      },
      "source": [
        "import math"
      ],
      "execution_count": 1,
      "outputs": []
    },
    {
      "cell_type": "code",
      "metadata": {
        "id": "ydner1_tOfvE"
      },
      "source": [
        "sigma = 16\r\n",
        "M=80\r\n",
        "n=256"
      ],
      "execution_count": 2,
      "outputs": []
    },
    {
      "cell_type": "code",
      "metadata": {
        "colab": {
          "base_uri": "https://localhost:8080/"
        },
        "id": "zhP23CghTXA0",
        "outputId": "147f756f-7490-40ad-f5d2-58512e0ddacc"
      },
      "source": [
        "X1 = M - 1.96 * sigma/math.sqrt(n)\r\n",
        "X1"
      ],
      "execution_count": 3,
      "outputs": [
        {
          "output_type": "execute_result",
          "data": {
            "text/plain": [
              "78.04"
            ]
          },
          "metadata": {
            "tags": []
          },
          "execution_count": 3
        }
      ]
    },
    {
      "cell_type": "code",
      "metadata": {
        "colab": {
          "base_uri": "https://localhost:8080/"
        },
        "id": "zjY8ikZnTAYQ",
        "outputId": "f55aeaa8-53d4-422f-b0b3-b54c385b2b22"
      },
      "source": [
        "X2 = M + 1.96 * sigma/math.sqrt(n)\r\n",
        "X2"
      ],
      "execution_count": 4,
      "outputs": [
        {
          "output_type": "execute_result",
          "data": {
            "text/plain": [
              "81.96"
            ]
          },
          "metadata": {
            "tags": []
          },
          "execution_count": 4
        }
      ]
    },
    {
      "cell_type": "code",
      "metadata": {
        "colab": {
          "base_uri": "https://localhost:8080/"
        },
        "id": "bMWbaa_aUSIN",
        "outputId": "361b16e3-7684-4a4f-c470-747f2ac6d62e"
      },
      "source": [
        "print (f'Интервал: [{X1};{X2}]')"
      ],
      "execution_count": 5,
      "outputs": [
        {
          "output_type": "stream",
          "text": [
            "Интервал: [78.04;81.96]\n"
          ],
          "name": "stdout"
        }
      ]
    },
    {
      "cell_type": "markdown",
      "metadata": {
        "id": "DrM0c4TeNQmm"
      },
      "source": [
        "**2. В результате 10 независимых измерений некоторой величины X, выполненных с одинаковой точностью, получены опытные данные:**\r\n",
        "> 6.9, 6.1, 6.2, 6.8, 7.5, 6.3, 6.4, 6.9, 6.7, 6.1\r\n",
        "\r\n",
        "Предполагая, что результаты измерений подчинены нормальному закону распределения вероятностей, оценить истинное значение величины X при помощи доверительного интервала, покрывающего это значение с доверительной вероятностью 0,95."
      ]
    },
    {
      "cell_type": "code",
      "metadata": {
        "id": "gvi_qpGBVzdM"
      },
      "source": [
        "import numpy as np"
      ],
      "execution_count": 6,
      "outputs": []
    },
    {
      "cell_type": "code",
      "metadata": {
        "colab": {
          "base_uri": "https://localhost:8080/"
        },
        "id": "H-P8ajyiUzMI",
        "outputId": "75b43e7b-8084-42b1-fcfc-fdf4cc6b674b"
      },
      "source": [
        "X = np.array([6.9, 6.1, 6.2, 6.8, 7.5, 6.3, 6.4, 6.9, 6.7, 6.1])\r\n",
        "X\r\n"
      ],
      "execution_count": 7,
      "outputs": [
        {
          "output_type": "execute_result",
          "data": {
            "text/plain": [
              "array([6.9, 6.1, 6.2, 6.8, 7.5, 6.3, 6.4, 6.9, 6.7, 6.1])"
            ]
          },
          "metadata": {
            "tags": []
          },
          "execution_count": 7
        }
      ]
    },
    {
      "cell_type": "code",
      "metadata": {
        "colab": {
          "base_uri": "https://localhost:8080/"
        },
        "id": "qZVk1JdoWgWJ",
        "outputId": "52c0f7c4-d6d9-48cf-9056-c48cc83bf979"
      },
      "source": [
        "n = X.size\r\n",
        "n"
      ],
      "execution_count": 8,
      "outputs": [
        {
          "output_type": "execute_result",
          "data": {
            "text/plain": [
              "10"
            ]
          },
          "metadata": {
            "tags": []
          },
          "execution_count": 8
        }
      ]
    },
    {
      "cell_type": "code",
      "metadata": {
        "colab": {
          "base_uri": "https://localhost:8080/"
        },
        "id": "BbcJhMiHW9Dl",
        "outputId": "3a10cf8c-31e5-4ae3-b9e8-fc27e6a4dafe"
      },
      "source": [
        "mean = X.mean()\r\n",
        "mean"
      ],
      "execution_count": 9,
      "outputs": [
        {
          "output_type": "execute_result",
          "data": {
            "text/plain": [
              "6.590000000000001"
            ]
          },
          "metadata": {
            "tags": []
          },
          "execution_count": 9
        }
      ]
    },
    {
      "cell_type": "code",
      "metadata": {
        "colab": {
          "base_uri": "https://localhost:8080/"
        },
        "id": "0xeWB58gYO-T",
        "outputId": "ee6c27b9-18b6-4c59-a6d4-f748151956ba"
      },
      "source": [
        "sigma = np.std(X, ddof=1)\r\n",
        "sigma"
      ],
      "execution_count": 10,
      "outputs": [
        {
          "output_type": "execute_result",
          "data": {
            "text/plain": [
              "0.4508017549014448"
            ]
          },
          "metadata": {
            "tags": []
          },
          "execution_count": 10
        }
      ]
    },
    {
      "cell_type": "markdown",
      "metadata": {
        "id": "98qqqLHQW9fG"
      },
      "source": [
        "$\\overline{X}\\pm t_{a/2} \\frac{\\sigma}{\\sqrt{n}}$"
      ]
    },
    {
      "cell_type": "code",
      "metadata": {
        "colab": {
          "base_uri": "https://localhost:8080/"
        },
        "id": "JABe2cSgZUqb",
        "outputId": "6f85aff2-8e7a-41f8-94aa-e335aafd0e34"
      },
      "source": [
        "X1 = mean - 2.262*sigma/math.sqrt(n)\r\n",
        "X1"
      ],
      "execution_count": 11,
      "outputs": [
        {
          "output_type": "execute_result",
          "data": {
            "text/plain": [
              "6.267538255912426"
            ]
          },
          "metadata": {
            "tags": []
          },
          "execution_count": 11
        }
      ]
    },
    {
      "cell_type": "code",
      "metadata": {
        "colab": {
          "base_uri": "https://localhost:8080/"
        },
        "id": "3RdnRnNyZfog",
        "outputId": "d4cd863a-7187-4506-c887-dbdae12000ec"
      },
      "source": [
        "X2 = mean + 2.262*sigma/math.sqrt(n)\r\n",
        "X2"
      ],
      "execution_count": 12,
      "outputs": [
        {
          "output_type": "execute_result",
          "data": {
            "text/plain": [
              "6.912461744087575"
            ]
          },
          "metadata": {
            "tags": []
          },
          "execution_count": 12
        }
      ]
    },
    {
      "cell_type": "code",
      "metadata": {
        "colab": {
          "base_uri": "https://localhost:8080/"
        },
        "id": "23N0ppcoZ2AQ",
        "outputId": "d25bb840-78ff-40e5-85de-43b110a742c0"
      },
      "source": [
        "print (f'Интервал: [{X1:.3f};{X2:.3f}]')"
      ],
      "execution_count": 13,
      "outputs": [
        {
          "output_type": "stream",
          "text": [
            "Интервал: [6.268;6.912]\n"
          ],
          "name": "stdout"
        }
      ]
    },
    {
      "cell_type": "markdown",
      "metadata": {
        "id": "h_oxaXAZNQqT"
      },
      "source": [
        "**3. Утверждается, что шарики для подшипников, изготовленные автоматическим станком, имеют средний диаметр 17 мм. Используя односторонний критерий с α=0,05, проверить эту гипотезу, если в выборке из n=100 шариков средний диаметр оказался равным 17.5 мм, а дисперсия известна и равна 4 кв.мм.**"
      ]
    },
    {
      "cell_type": "code",
      "metadata": {
        "id": "xXj5B5LpZz1s"
      },
      "source": [
        "M=17.5\r\n",
        "# H0: mu = m0 \r\n",
        "mu = 17\r\n",
        "# H1:\r\n",
        "# mu > mu0\r\n",
        "D = 4\r\n",
        "n = 100"
      ],
      "execution_count": 14,
      "outputs": []
    },
    {
      "cell_type": "code",
      "metadata": {
        "colab": {
          "base_uri": "https://localhost:8080/"
        },
        "id": "jvKBvOlUdQcz",
        "outputId": "73fa678e-4e43-4040-aac0-36535afff510"
      },
      "source": [
        "Zp = (M-mu)/math.sqrt(D)*math.sqrt(n)\r\n",
        "Zp"
      ],
      "execution_count": 15,
      "outputs": [
        {
          "output_type": "execute_result",
          "data": {
            "text/plain": [
              "2.5"
            ]
          },
          "metadata": {
            "tags": []
          },
          "execution_count": 15
        }
      ]
    },
    {
      "cell_type": "code",
      "metadata": {
        "id": "LcKwX_W3fJ57"
      },
      "source": [
        "Zt = 1.645 # для  a = 0.05"
      ],
      "execution_count": 16,
      "outputs": []
    },
    {
      "cell_type": "markdown",
      "metadata": {
        "id": "btQOkdqRf1bw"
      },
      "source": [
        "**Ответ: Zp > Zt (2.5 > 1.645). Верна гипотеза H1 на уровне значимости 5%**"
      ]
    },
    {
      "cell_type": "markdown",
      "metadata": {
        "id": "MprbmX28NQs6"
      },
      "source": [
        "**4. Продавец утверждает, что средний вес пачки печенья составляет 200 г.\r\n",
        "Из партии извлечена выборка из 10 пачек. Вес каждой пачки составляет:\r\n",
        " 202, 203, 199, 197, 195, 201, 200, 204, 194, 190.\r\n",
        "Известно, что их веса распределены нормально.\r\n",
        "Верно ли утверждение продавца, если учитывать, что доверительная вероятность равна 99%?**"
      ]
    },
    {
      "cell_type": "markdown",
      "metadata": {
        "id": "45GtmMwUNQws"
      },
      "source": [
        ""
      ]
    },
    {
      "cell_type": "code",
      "metadata": {
        "id": "RiLRERAAgfus"
      },
      "source": [
        "X = np.array([202, 203, 199, 197, 195, 201, 200, 204, 194, 190])\r\n",
        "n = X.size"
      ],
      "execution_count": 17,
      "outputs": []
    },
    {
      "cell_type": "code",
      "metadata": {
        "id": "ezzcFFW2gxHm"
      },
      "source": [
        "mu0 = 200\r\n",
        "a = 0.01"
      ],
      "execution_count": 18,
      "outputs": []
    },
    {
      "cell_type": "code",
      "metadata": {
        "id": "Kyd7_ahYhcy_"
      },
      "source": [
        "# H0 mu = mu0\r\n",
        "# H1 mu != mu0"
      ],
      "execution_count": 19,
      "outputs": []
    },
    {
      "cell_type": "code",
      "metadata": {
        "colab": {
          "base_uri": "https://localhost:8080/"
        },
        "id": "z4sUvfI-hHMK",
        "outputId": "90a7a3d7-52b9-4451-d224-1661718b5b4a"
      },
      "source": [
        "mean = X.mean()\r\n",
        "mean"
      ],
      "execution_count": 20,
      "outputs": [
        {
          "output_type": "execute_result",
          "data": {
            "text/plain": [
              "198.5"
            ]
          },
          "metadata": {
            "tags": []
          },
          "execution_count": 20
        }
      ]
    },
    {
      "cell_type": "code",
      "metadata": {
        "colab": {
          "base_uri": "https://localhost:8080/"
        },
        "id": "Klkwm89Qhp7w",
        "outputId": "e9e66c1b-6358-4f29-b14a-c87f8ed098fb"
      },
      "source": [
        "sigma = np.std(X, ddof=1)\r\n",
        "sigma"
      ],
      "execution_count": 21,
      "outputs": [
        {
          "output_type": "execute_result",
          "data": {
            "text/plain": [
              "4.453463071962462"
            ]
          },
          "metadata": {
            "tags": []
          },
          "execution_count": 21
        }
      ]
    },
    {
      "cell_type": "code",
      "metadata": {
        "colab": {
          "base_uri": "https://localhost:8080/"
        },
        "id": "v2emutVgh7lA",
        "outputId": "221888a8-809e-460b-eec5-e68c41a26a92"
      },
      "source": [
        "Tp = (mean-mu0)/sigma*math.sqrt(n)\r\n",
        "Tp"
      ],
      "execution_count": 22,
      "outputs": [
        {
          "output_type": "execute_result",
          "data": {
            "text/plain": [
              "-1.0651074037450896"
            ]
          },
          "metadata": {
            "tags": []
          },
          "execution_count": 22
        }
      ]
    },
    {
      "cell_type": "code",
      "metadata": {
        "id": "fYd3Kp-migTO"
      },
      "source": [
        "# Tt = +-3.25"
      ],
      "execution_count": 23,
      "outputs": []
    },
    {
      "cell_type": "markdown",
      "metadata": {
        "id": "r74q1kGCjxA0"
      },
      "source": [
        "**Ответ: Tt- < Tp < Tt+ (-3.25 < -1.065 > 3.25). Верна гипотеза H0 на уровне значимости 1%**"
      ]
    }
  ]
}