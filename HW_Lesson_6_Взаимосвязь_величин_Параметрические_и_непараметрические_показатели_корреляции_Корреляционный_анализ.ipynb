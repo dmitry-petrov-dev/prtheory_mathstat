{
  "nbformat": 4,
  "nbformat_minor": 0,
  "metadata": {
    "colab": {
      "name": "HW_Lesson_6_Взаимосвязь величин. Параметрические и непараметрические показатели корреляции. Корреляционный анализ.ipynb",
      "provenance": [],
      "authorship_tag": "ABX9TyOQZwt/1MjG4YVTgFON8sjg",
      "include_colab_link": true
    },
    "kernelspec": {
      "name": "python3",
      "display_name": "Python 3"
    }
  },
  "cells": [
    {
      "cell_type": "markdown",
      "metadata": {
        "id": "view-in-github",
        "colab_type": "text"
      },
      "source": [
        "<a href=\"https://colab.research.google.com/github/dmitry-petrov-dev/prtheory_mathstat/blob/lesson6/HW_Lesson_6_%D0%92%D0%B7%D0%B0%D0%B8%D0%BC%D0%BE%D1%81%D0%B2%D1%8F%D0%B7%D1%8C_%D0%B2%D0%B5%D0%BB%D0%B8%D1%87%D0%B8%D0%BD_%D0%9F%D0%B0%D1%80%D0%B0%D0%BC%D0%B5%D1%82%D1%80%D0%B8%D1%87%D0%B5%D1%81%D0%BA%D0%B8%D0%B5_%D0%B8_%D0%BD%D0%B5%D0%BF%D0%B0%D1%80%D0%B0%D0%BC%D0%B5%D1%82%D1%80%D0%B8%D1%87%D0%B5%D1%81%D0%BA%D0%B8%D0%B5_%D0%BF%D0%BE%D0%BA%D0%B0%D0%B7%D0%B0%D1%82%D0%B5%D0%BB%D0%B8_%D0%BA%D0%BE%D1%80%D1%80%D0%B5%D0%BB%D1%8F%D1%86%D0%B8%D0%B8_%D0%9A%D0%BE%D1%80%D1%80%D0%B5%D0%BB%D1%8F%D1%86%D0%B8%D0%BE%D0%BD%D0%BD%D1%8B%D0%B9_%D0%B0%D0%BD%D0%B0%D0%BB%D0%B8%D0%B7.ipynb\" target=\"_parent\"><img src=\"https://colab.research.google.com/assets/colab-badge.svg\" alt=\"Open In Colab\"/></a>"
      ]
    },
    {
      "cell_type": "code",
      "metadata": {
        "id": "WmbUXSrhfunV"
      },
      "source": [
        "import numpy as np\r\n",
        "import math"
      ],
      "execution_count": 1,
      "outputs": []
    },
    {
      "cell_type": "markdown",
      "metadata": {
        "id": "en6fL-OJf3tb"
      },
      "source": [
        "**1. Даны значения величины заработной платы заемщиков банка (zp) и значения их поведенческого кредитного скоринга (ks):\r\n",
        "zp = [35, 45, 190, 200, 40, 70, 54, 150, 120, 110],\r\n",
        "ks = [401, 574, 874, 919, 459, 739, 653, 902, 746, 832].\r\n",
        "Найдите ковариацию этих двух величин с помощью элементарных действий, а затем с помощью функции cov из numpy\r\n",
        "Полученные значения должны быть равны.\r\n",
        "Найдите коэффициент корреляции Пирсона с помощью ковариации и среднеквадратичных отклонений двух признаков,\r\n",
        "а затем с использованием функций из библиотек numpy и pandas.**\r\n",
        "\r\n"
      ]
    },
    {
      "cell_type": "code",
      "metadata": {
        "id": "i8NOlhv1gVWZ"
      },
      "source": [
        "zp = np.array([35, 45, 190, 200, 40, 70, 54, 150, 120, 110])\r\n",
        "ks = np.array([401, 574, 874, 919, 459, 739, 653, 902, 746, 832])"
      ],
      "execution_count": 2,
      "outputs": []
    },
    {
      "cell_type": "code",
      "metadata": {
        "colab": {
          "base_uri": "https://localhost:8080/"
        },
        "id": "YWMomjbrpjdw",
        "outputId": "8ae96601-6009-4674-e2c3-de6093082dae"
      },
      "source": [
        "zp_ks_mean = (zp*ks).mean()\r\n",
        "zp_ks_mean"
      ],
      "execution_count": 3,
      "outputs": [
        {
          "output_type": "execute_result",
          "data": {
            "text/plain": [
              "81141.7"
            ]
          },
          "metadata": {
            "tags": []
          },
          "execution_count": 3
        }
      ]
    },
    {
      "cell_type": "code",
      "metadata": {
        "colab": {
          "base_uri": "https://localhost:8080/"
        },
        "id": "e4LSLenAp0dS",
        "outputId": "3cea9472-86b8-4e51-88c5-6db597eb4ed7"
      },
      "source": [
        "zp_mean = zp.mean()\r\n",
        "zp_mean"
      ],
      "execution_count": 4,
      "outputs": [
        {
          "output_type": "execute_result",
          "data": {
            "text/plain": [
              "101.4"
            ]
          },
          "metadata": {
            "tags": []
          },
          "execution_count": 4
        }
      ]
    },
    {
      "cell_type": "code",
      "metadata": {
        "colab": {
          "base_uri": "https://localhost:8080/"
        },
        "id": "Oyy-0swEp5gO",
        "outputId": "8052e39e-470e-4900-9650-86f1777ccb55"
      },
      "source": [
        "ks_mean = ks.mean()\r\n",
        "ks_mean"
      ],
      "execution_count": 5,
      "outputs": [
        {
          "output_type": "execute_result",
          "data": {
            "text/plain": [
              "709.9"
            ]
          },
          "metadata": {
            "tags": []
          },
          "execution_count": 5
        }
      ]
    },
    {
      "cell_type": "code",
      "metadata": {
        "colab": {
          "base_uri": "https://localhost:8080/"
        },
        "id": "2L2KRwiWp_7D",
        "outputId": "957479fb-a8fc-4eed-8562-6fc216e66b6e"
      },
      "source": [
        "cov = zp_ks_mean - zp_mean*ks_mean\r\n",
        "cov"
      ],
      "execution_count": 6,
      "outputs": [
        {
          "output_type": "execute_result",
          "data": {
            "text/plain": [
              "9157.839999999997"
            ]
          },
          "metadata": {
            "tags": []
          },
          "execution_count": 6
        }
      ]
    },
    {
      "cell_type": "code",
      "metadata": {
        "colab": {
          "base_uri": "https://localhost:8080/"
        },
        "id": "GToWf6tXCg7b",
        "outputId": "33f0261a-7f5f-4be1-8075-9f03b055aad8"
      },
      "source": [
        "cov_np = np.cov(zp, ks, ddof=0)\r\n",
        "cov_np"
      ],
      "execution_count": 7,
      "outputs": [
        {
          "output_type": "execute_result",
          "data": {
            "text/plain": [
              "array([[ 3494.64,  9157.84],\n",
              "       [ 9157.84, 30468.89]])"
            ]
          },
          "metadata": {
            "tags": []
          },
          "execution_count": 7
        }
      ]
    },
    {
      "cell_type": "code",
      "metadata": {
        "colab": {
          "base_uri": "https://localhost:8080/"
        },
        "id": "i4Gvl3tOq6GB",
        "outputId": "acc632e1-7f81-44f1-860b-34e0dd67fae9"
      },
      "source": [
        "zp_std = zp.std(ddof=0)\r\n",
        "zp_std"
      ],
      "execution_count": 8,
      "outputs": [
        {
          "output_type": "execute_result",
          "data": {
            "text/plain": [
              "59.115480206118605"
            ]
          },
          "metadata": {
            "tags": []
          },
          "execution_count": 8
        }
      ]
    },
    {
      "cell_type": "code",
      "metadata": {
        "colab": {
          "base_uri": "https://localhost:8080/"
        },
        "id": "yrCHcBhhrIWk",
        "outputId": "7f49e303-11e1-48ea-c3dc-38adc29cee3b"
      },
      "source": [
        "ks_std = ks.std(ddof=0)\r\n",
        "ks_std"
      ],
      "execution_count": 9,
      "outputs": [
        {
          "output_type": "execute_result",
          "data": {
            "text/plain": [
              "174.55340157098058"
            ]
          },
          "metadata": {
            "tags": []
          },
          "execution_count": 9
        }
      ]
    },
    {
      "cell_type": "code",
      "metadata": {
        "colab": {
          "base_uri": "https://localhost:8080/"
        },
        "id": "JBjCeMxLCzow",
        "outputId": "a9e8224c-8fd4-495d-d14c-4226e0964ffa"
      },
      "source": [
        "corr_pirson = cov_np[0,1]/(zp_std*ks_std)\r\n",
        "corr_pirson"
      ],
      "execution_count": 10,
      "outputs": [
        {
          "output_type": "execute_result",
          "data": {
            "text/plain": [
              "0.8874900920739162"
            ]
          },
          "metadata": {
            "tags": []
          },
          "execution_count": 10
        }
      ]
    },
    {
      "cell_type": "code",
      "metadata": {
        "colab": {
          "base_uri": "https://localhost:8080/"
        },
        "id": "Z6w658s-DfdX",
        "outputId": "9d3bb221-c82a-428c-f4cc-9541b3473088"
      },
      "source": [
        "cor_numpy = np.corrcoef(zp, ks)[0, 1]\r\n",
        "cor_numpy"
      ],
      "execution_count": 11,
      "outputs": [
        {
          "output_type": "execute_result",
          "data": {
            "text/plain": [
              "0.8874900920739162"
            ]
          },
          "metadata": {
            "tags": []
          },
          "execution_count": 11
        }
      ]
    },
    {
      "cell_type": "markdown",
      "metadata": {
        "id": "ZIDh2jcOf5Sw"
      },
      "source": [
        "**2. Измерены значения IQ выборки студентов,\r\n",
        "обучающихся в местных технических вузах:\r\n",
        "131, 125, 115, 122, 131, 115, 107, 99, 125, 111.\r\n",
        "Известно, что в генеральной совокупности IQ распределен нормально.\r\n",
        "Найдите доверительный интервал для математического ожидания с надежностью 0.95.**\r\n",
        "\r\n"
      ]
    },
    {
      "cell_type": "code",
      "metadata": {
        "colab": {
          "base_uri": "https://localhost:8080/"
        },
        "id": "FDS49phgELKM",
        "outputId": "6d3367c0-d950-40c2-f22b-6c28804bd5f0"
      },
      "source": [
        "iq = np.array([131, 125, 115, 122, 131, 115, 107, 99, 125, 111])\r\n",
        "iq"
      ],
      "execution_count": 12,
      "outputs": [
        {
          "output_type": "execute_result",
          "data": {
            "text/plain": [
              "array([131, 125, 115, 122, 131, 115, 107,  99, 125, 111])"
            ]
          },
          "metadata": {
            "tags": []
          },
          "execution_count": 12
        }
      ]
    },
    {
      "cell_type": "code",
      "metadata": {
        "id": "zU71z514ET69"
      },
      "source": [
        "a = 0.05"
      ],
      "execution_count": 13,
      "outputs": []
    },
    {
      "cell_type": "code",
      "metadata": {
        "colab": {
          "base_uri": "https://localhost:8080/"
        },
        "id": "Gj_B_XfnEoOx",
        "outputId": "ad4e3fbe-cabf-43bf-837e-1b54e462a73b"
      },
      "source": [
        "n = iq.size\r\n",
        "n"
      ],
      "execution_count": 14,
      "outputs": [
        {
          "output_type": "execute_result",
          "data": {
            "text/plain": [
              "10"
            ]
          },
          "metadata": {
            "tags": []
          },
          "execution_count": 14
        }
      ]
    },
    {
      "cell_type": "code",
      "metadata": {
        "colab": {
          "base_uri": "https://localhost:8080/"
        },
        "id": "qWlIiKzDEu_h",
        "outputId": "01ae9d04-9ecc-4735-86a4-3eadd989ca7a"
      },
      "source": [
        "mean = iq.mean()\r\n",
        "mean"
      ],
      "execution_count": 15,
      "outputs": [
        {
          "output_type": "execute_result",
          "data": {
            "text/plain": [
              "118.1"
            ]
          },
          "metadata": {
            "tags": []
          },
          "execution_count": 15
        }
      ]
    },
    {
      "cell_type": "code",
      "metadata": {
        "colab": {
          "base_uri": "https://localhost:8080/"
        },
        "id": "Xeq04QUjE0El",
        "outputId": "7aeced24-82c9-44a0-e9cb-2e83c855250d"
      },
      "source": [
        "sigma = np.std(iq, ddof=1)\r\n",
        "sigma"
      ],
      "execution_count": 16,
      "outputs": [
        {
          "output_type": "execute_result",
          "data": {
            "text/plain": [
              "10.54566788359614"
            ]
          },
          "metadata": {
            "tags": []
          },
          "execution_count": 16
        }
      ]
    },
    {
      "cell_type": "code",
      "metadata": {
        "colab": {
          "base_uri": "https://localhost:8080/"
        },
        "id": "LmxfVnkgFBJb",
        "outputId": "a3312714-d7ea-4f64-9eb4-40c63fbbf1c5"
      },
      "source": [
        "iq1 = mean - 2.262*sigma/math.sqrt(n)\r\n",
        "iq1"
      ],
      "execution_count": 17,
      "outputs": [
        {
          "output_type": "execute_result",
          "data": {
            "text/plain": [
              "110.55660776308164"
            ]
          },
          "metadata": {
            "tags": []
          },
          "execution_count": 17
        }
      ]
    },
    {
      "cell_type": "code",
      "metadata": {
        "colab": {
          "base_uri": "https://localhost:8080/"
        },
        "id": "fwkdeRGjFJSj",
        "outputId": "962aa640-647a-4364-ac2e-97389b2a1065"
      },
      "source": [
        "iq2 = mean + 2.262*sigma/math.sqrt(n)\r\n",
        "iq2"
      ],
      "execution_count": 18,
      "outputs": [
        {
          "output_type": "execute_result",
          "data": {
            "text/plain": [
              "125.64339223691834"
            ]
          },
          "metadata": {
            "tags": []
          },
          "execution_count": 18
        }
      ]
    },
    {
      "cell_type": "code",
      "metadata": {
        "colab": {
          "base_uri": "https://localhost:8080/"
        },
        "id": "c6oHPMTDFTZy",
        "outputId": "b466181d-d975-435e-bba1-f0ab5dd334c2"
      },
      "source": [
        "print(f'Интервал:  [{iq1:.3f}:{iq2:.3f}]')"
      ],
      "execution_count": 19,
      "outputs": [
        {
          "output_type": "stream",
          "text": [
            "Интервал:  [110.557:125.643]\n"
          ],
          "name": "stdout"
        }
      ]
    },
    {
      "cell_type": "markdown",
      "metadata": {
        "id": "uubCko3Gf7uQ"
      },
      "source": [
        "**3. Известно, что рост футболистов в сборной распределен нормально\r\n",
        "с дисперсией генеральной совокупности, равной 25 кв.см. Объем выборки равен 27,\r\n",
        "среднее выборочное составляет 174.2. Найдите доверительный интервал для математического\r\n",
        "ожидания с надежностью 0.95.**"
      ]
    },
    {
      "cell_type": "code",
      "metadata": {
        "id": "qBvR3gafFvxu"
      },
      "source": [
        "D = 25\r\n",
        "n = 27\r\n",
        "X_mean =174.2\r\n",
        "a = 0.05"
      ],
      "execution_count": 20,
      "outputs": []
    },
    {
      "cell_type": "code",
      "metadata": {
        "colab": {
          "base_uri": "https://localhost:8080/"
        },
        "id": "tDTELkH2F4al",
        "outputId": "ef20cb56-39b5-4073-b0d0-c2e29c42faa8"
      },
      "source": [
        "X1 = X_mean - 1.96 * math.sqrt(D)/math.sqrt(n)\r\n",
        "X1"
      ],
      "execution_count": 21,
      "outputs": [
        {
          "output_type": "execute_result",
          "data": {
            "text/plain": [
              "172.31398912064722"
            ]
          },
          "metadata": {
            "tags": []
          },
          "execution_count": 21
        }
      ]
    },
    {
      "cell_type": "code",
      "metadata": {
        "colab": {
          "base_uri": "https://localhost:8080/"
        },
        "id": "mt_-D-UtGMNu",
        "outputId": "eee663a4-2323-44ee-db2b-7248b5d39d7a"
      },
      "source": [
        "X2 = X_mean + 1.96 * math.sqrt(D)/math.sqrt(n)\r\n",
        "X2"
      ],
      "execution_count": 22,
      "outputs": [
        {
          "output_type": "execute_result",
          "data": {
            "text/plain": [
              "176.08601087935276"
            ]
          },
          "metadata": {
            "tags": []
          },
          "execution_count": 22
        }
      ]
    },
    {
      "cell_type": "code",
      "metadata": {
        "colab": {
          "base_uri": "https://localhost:8080/"
        },
        "id": "RJgRR6ApGPWf",
        "outputId": "fd51b650-fd39-45c2-a5e2-022ffbfe4709"
      },
      "source": [
        "print(f'Интервал:  [{X1:.3f}:{X2:.3f}]')"
      ],
      "execution_count": 23,
      "outputs": [
        {
          "output_type": "stream",
          "text": [
            "Интервал:  [172.314:176.086]\n"
          ],
          "name": "stdout"
        }
      ]
    }
  ]
}