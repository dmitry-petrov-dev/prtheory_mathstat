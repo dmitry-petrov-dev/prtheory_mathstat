{
  "nbformat": 4,
  "nbformat_minor": 0,
  "metadata": {
    "colab": {
      "name": "HW_Lesson_7_Многомерный статистический анализ. Линейная регрессия.ipynb",
      "provenance": [],
      "authorship_tag": "ABX9TyPLdCZF7X8Da9Nn8zFrk7jY",
      "include_colab_link": true
    },
    "kernelspec": {
      "name": "python3",
      "display_name": "Python 3"
    }
  },
  "cells": [
    {
      "cell_type": "markdown",
      "metadata": {
        "id": "view-in-github",
        "colab_type": "text"
      },
      "source": [
        "<a href=\"https://colab.research.google.com/github/dmitry-petrov-dev/prtheory_mathstat/blob/lesson7/HW_Lesson_7_%D0%9C%D0%BD%D0%BE%D0%B3%D0%BE%D0%BC%D0%B5%D1%80%D0%BD%D1%8B%D0%B9_%D1%81%D1%82%D0%B0%D1%82%D0%B8%D1%81%D1%82%D0%B8%D1%87%D0%B5%D1%81%D0%BA%D0%B8%D0%B9_%D0%B0%D0%BD%D0%B0%D0%BB%D0%B8%D0%B7_%D0%9B%D0%B8%D0%BD%D0%B5%D0%B9%D0%BD%D0%B0%D1%8F_%D1%80%D0%B5%D0%B3%D1%80%D0%B5%D1%81%D1%81%D0%B8%D1%8F.ipynb\" target=\"_parent\"><img src=\"https://colab.research.google.com/assets/colab-badge.svg\" alt=\"Open In Colab\"/></a>"
      ]
    },
    {
      "cell_type": "code",
      "metadata": {
        "id": "luXBtfmCsC0Z"
      },
      "source": [
        "import numpy as np\r\n",
        "import matplotlib.pyplot as plt"
      ],
      "execution_count": 1,
      "outputs": []
    },
    {
      "cell_type": "markdown",
      "metadata": {
        "id": "ukSZ-6pEsRSj"
      },
      "source": [
        "**1. Даны значения величины заработной платы заемщиков банка (zp) и значения их поведенческого кредитного скоринга (ks): zp = [35, 45, 190, 200, 40, 70, 54, 150, 120, 110], ks = [401, 574, 874, 919, 459, 739, 653, 902, 746, 832]. Используя математические операции, посчитать коэффициенты линейной регрессии, приняв за X заработную плату (то есть, zp - признак), а за y - значения скорингового балла (то есть, ks - целевая переменная). Произвести расчет как с использованием intercept, так и без.**"
      ]
    },
    {
      "cell_type": "code",
      "metadata": {
        "id": "cO3X3Kuqtl-G"
      },
      "source": [
        "X = np.array([35, 45, 190, 200, 40, 70, 54, 150, 120, 110])\r\n",
        "y = np.array([401, 574, 874, 919, 459, 739, 653, 902, 746, 832])"
      ],
      "execution_count": 2,
      "outputs": []
    },
    {
      "cell_type": "code",
      "metadata": {
        "colab": {
          "base_uri": "https://localhost:8080/"
        },
        "id": "dfONUv8c-ezt",
        "outputId": "c89d149f-33f7-4fe0-ecdc-a948b619b1e1"
      },
      "source": [
        "float(sum(y)) / len(y)"
      ],
      "execution_count": 3,
      "outputs": [
        {
          "output_type": "execute_result",
          "data": {
            "text/plain": [
              "709.9"
            ]
          },
          "metadata": {
            "tags": []
          },
          "execution_count": 3
        }
      ]
    },
    {
      "cell_type": "code",
      "metadata": {
        "colab": {
          "base_uri": "https://localhost:8080/"
        },
        "id": "cKMH_1x_tzfo",
        "outputId": "c64a9057-3086-42ee-d393-c9075c862e4a"
      },
      "source": [
        "b = (np.mean(X*y)-np.mean(X)*np.mean(y))/(np.mean(X**2)-np.mean(X)**2)\r\n",
        "b"
      ],
      "execution_count": 4,
      "outputs": [
        {
          "output_type": "execute_result",
          "data": {
            "text/plain": [
              "2.620538882402765"
            ]
          },
          "metadata": {
            "tags": []
          },
          "execution_count": 4
        }
      ]
    },
    {
      "cell_type": "code",
      "metadata": {
        "colab": {
          "base_uri": "https://localhost:8080/"
        },
        "id": "bgt_HPaHuNhl",
        "outputId": "b47d359a-128f-4d78-ebf9-de7ef3e22b23"
      },
      "source": [
        "a = np.mean(y)-b*np.mean(X)\r\n",
        "a"
      ],
      "execution_count": 5,
      "outputs": [
        {
          "output_type": "execute_result",
          "data": {
            "text/plain": [
              "444.1773573243596"
            ]
          },
          "metadata": {
            "tags": []
          },
          "execution_count": 5
        }
      ]
    },
    {
      "cell_type": "code",
      "metadata": {
        "colab": {
          "base_uri": "https://localhost:8080/",
          "height": 265
        },
        "id": "X0ncyZjpvG7s",
        "outputId": "98c2bc0c-9534-4cbe-a0eb-58b5ecb541d1"
      },
      "source": [
        "%matplotlib inline\r\n",
        "plt.scatter(X,y)\r\n",
        "plt.plot(X, a+b*X)\r\n",
        "plt.show()"
      ],
      "execution_count": 6,
      "outputs": [
        {
          "output_type": "display_data",
          "data": {
            "image/png": "[encoded data removed]",
            "text/plain": [
              "<Figure size 432x288 with 1 Axes>"
            ]
          },
          "metadata": {
            "tags": [],
            "needs_background": "light"
          }
        }
      ]
    },
    {
      "cell_type": "markdown",
      "metadata": {
        "id": "u4edQawDcSXs"
      },
      "source": [
        "**a) Без intercept** "
      ]
    },
    {
      "cell_type": "code",
      "metadata": {
        "colab": {
          "base_uri": "https://localhost:8080/"
        },
        "id": "d_dPHQdcbYkt",
        "outputId": "a2630509-bdcb-4aed-bfd8-15743d2a2209"
      },
      "source": [
        "X = X.reshape((len(X), 1))\r\n",
        "X"
      ],
      "execution_count": 7,
      "outputs": [
        {
          "output_type": "execute_result",
          "data": {
            "text/plain": [
              "array([[ 35],\n",
              "       [ 45],\n",
              "       [190],\n",
              "       [200],\n",
              "       [ 40],\n",
              "       [ 70],\n",
              "       [ 54],\n",
              "       [150],\n",
              "       [120],\n",
              "       [110]])"
            ]
          },
          "metadata": {
            "tags": []
          },
          "execution_count": 7
        }
      ]
    },
    {
      "cell_type": "code",
      "metadata": {
        "colab": {
          "base_uri": "https://localhost:8080/"
        },
        "id": "v9V84IgVbuXz",
        "outputId": "e34505b9-c4d8-4818-9f36-949659e03afd"
      },
      "source": [
        "y = y.reshape((len(y), 1))\r\n",
        "y"
      ],
      "execution_count": 8,
      "outputs": [
        {
          "output_type": "execute_result",
          "data": {
            "text/plain": [
              "array([[401],\n",
              "       [574],\n",
              "       [874],\n",
              "       [919],\n",
              "       [459],\n",
              "       [739],\n",
              "       [653],\n",
              "       [902],\n",
              "       [746],\n",
              "       [832]])"
            ]
          },
          "metadata": {
            "tags": []
          },
          "execution_count": 8
        }
      ]
    },
    {
      "cell_type": "code",
      "metadata": {
        "colab": {
          "base_uri": "https://localhost:8080/"
        },
        "id": "0ZPURDjxb7VP",
        "outputId": "71ee537c-71ea-4b5e-b86c-a637d3defca2"
      },
      "source": [
        "B = np.dot(np.linalg.inv(np.dot(X.T,X)),X.T@y)\r\n",
        "B"
      ],
      "execution_count": 9,
      "outputs": [
        {
          "output_type": "execute_result",
          "data": {
            "text/plain": [
              "array([[5.88982042]])"
            ]
          },
          "metadata": {
            "tags": []
          },
          "execution_count": 9
        }
      ]
    },
    {
      "cell_type": "markdown",
      "metadata": {
        "id": "m3vUECEEcZ-9"
      },
      "source": [
        "**б) С intercept**"
      ]
    },
    {
      "cell_type": "code",
      "metadata": {
        "colab": {
          "base_uri": "https://localhost:8080/"
        },
        "id": "cIo--wh8cfus",
        "outputId": "36a75262-97e3-4ead-a35c-e623f5e03647"
      },
      "source": [
        "X = np.hstack([np.ones((len(X),1)),X])\r\n",
        "X"
      ],
      "execution_count": 10,
      "outputs": [
        {
          "output_type": "execute_result",
          "data": {
            "text/plain": [
              "array([[  1.,  35.],\n",
              "       [  1.,  45.],\n",
              "       [  1., 190.],\n",
              "       [  1., 200.],\n",
              "       [  1.,  40.],\n",
              "       [  1.,  70.],\n",
              "       [  1.,  54.],\n",
              "       [  1., 150.],\n",
              "       [  1., 120.],\n",
              "       [  1., 110.]])"
            ]
          },
          "metadata": {
            "tags": []
          },
          "execution_count": 10
        }
      ]
    },
    {
      "cell_type": "code",
      "metadata": {
        "colab": {
          "base_uri": "https://localhost:8080/"
        },
        "id": "JNUM2i-Ud3T0",
        "outputId": "68beebb6-4b5f-4782-d941-07cfcc74e4b4"
      },
      "source": [
        "B = np.dot(np.linalg.inv(np.dot(X.T,X)),X.T@y)\r\n",
        "B"
      ],
      "execution_count": 11,
      "outputs": [
        {
          "output_type": "execute_result",
          "data": {
            "text/plain": [
              "array([[444.17735732],\n",
              "       [  2.62053888]])"
            ]
          },
          "metadata": {
            "tags": []
          },
          "execution_count": 11
        }
      ]
    },
    {
      "cell_type": "markdown",
      "metadata": {
        "id": "VKzgUeWssTxM"
      },
      "source": [
        "**2. Посчитать коэффициент линейной регрессии при заработной плате (zp), используя градиентный спуск (без intercept).**"
      ]
    },
    {
      "cell_type": "code",
      "metadata": {
        "colab": {
          "base_uri": "https://localhost:8080/"
        },
        "id": "10dIMrMYeTCU",
        "outputId": "8cd99851-f7f1-4bd4-eada-5add675901a3"
      },
      "source": [
        "alpha = 1e-6\r\n",
        "alpha"
      ],
      "execution_count": 12,
      "outputs": [
        {
          "output_type": "execute_result",
          "data": {
            "text/plain": [
              "1e-06"
            ]
          },
          "metadata": {
            "tags": []
          },
          "execution_count": 12
        }
      ]
    },
    {
      "cell_type": "code",
      "metadata": {
        "id": "yleITkC_ed8O"
      },
      "source": [
        "def mse_(B1, y=y, X=X, n=10):\r\n",
        "  return np.sum((B1*X-y)**2)/n"
      ],
      "execution_count": 13,
      "outputs": []
    },
    {
      "cell_type": "code",
      "metadata": {
        "id": "HGr6li1ceuxJ"
      },
      "source": [
        "B1 = 0.1\r\n",
        "n = 10"
      ],
      "execution_count": 14,
      "outputs": []
    },
    {
      "cell_type": "code",
      "metadata": {
        "colab": {
          "base_uri": "https://localhost:8080/"
        },
        "id": "HVdbKCRPe2Jv",
        "outputId": "9c8445de-2a82-4c4f-bd34-36b0a0fcdf86"
      },
      "source": [
        "for i in range(500):\r\n",
        "  B1 -=alpha*(2/n)*np.sum((B1*X-y)*X)\r\n",
        "  if i%10==0:\r\n",
        "    print(f'Iteration: {i}, B1={B1}, mse={mse_(B1)}')"
      ],
      "execution_count": 15,
      "outputs": [
        {
          "output_type": "stream",
          "text": [
            "Iteration: 0, B1=0.26094768, mse=1027073.9973981536\n",
            "Iteration: 10, B1=1.6455969021951997, mse=836773.912713573\n",
            "Iteration: 20, B1=2.6926997710618767, mse=727946.5390674833\n",
            "Iteration: 30, B1=3.4845424994682612, mse=665711.163427289\n",
            "Iteration: 40, B1=4.08335177138699, mse=630120.467343122\n",
            "Iteration: 50, B1=4.536184804099786, mse=609767.1291536206\n",
            "Iteration: 60, B1=4.8786273231656905, mse=598127.6159933114\n",
            "Iteration: 70, B1=5.137590054222849, mse=591471.2992089281\n",
            "Iteration: 80, B1=5.333423492954432, mse=587664.7350920414\n",
            "Iteration: 90, B1=5.4815171416770845, mse=585487.8659847953\n",
            "Iteration: 100, B1=5.593508888000083, mse=584242.9745381855\n",
            "Iteration: 110, B1=5.678199564154357, mse=583531.0554298281\n",
            "Iteration: 120, B1=5.742244557316458, mse=583123.928512678\n",
            "Iteration: 130, B1=5.790676820883011, mse=582891.1038494231\n",
            "Iteration: 140, B1=5.827302387353806, mse=582757.9578412957\n",
            "Iteration: 150, B1=5.854999464065145, mse=582681.8153088319\n",
            "Iteration: 160, B1=5.875944616107107, mse=582638.2714930499\n",
            "Iteration: 170, B1=5.891783810930197, mse=582613.369984898\n",
            "Iteration: 180, B1=5.90376176612198, mse=582599.1294986864\n",
            "Iteration: 190, B1=5.912819765103551, mse=582590.9857570984\n",
            "Iteration: 200, B1=5.919669627558069, mse=582586.3285757308\n",
            "Iteration: 210, B1=5.924849647531717, mse=582583.6652620613\n",
            "Iteration: 220, B1=5.928766895083118, mse=582582.1421863761\n",
            "Iteration: 230, B1=5.9317292057415765, mse=582581.2711813686\n",
            "Iteration: 240, B1=5.933969371654522, mse=582580.7730776105\n",
            "Iteration: 250, B1=5.935663435477025, mse=582580.4882257989\n",
            "Iteration: 260, B1=5.936944524622315, mse=582580.325326899\n",
            "Iteration: 270, B1=5.937913313032984, mse=582580.2321695075\n",
            "Iteration: 280, B1=5.938645932607587, mse=582580.1788953627\n",
            "Iteration: 290, B1=5.939199955999257, mse=582580.1484293479\n",
            "Iteration: 300, B1=5.939618920942537, mse=582580.1310066734\n",
            "Iteration: 310, B1=5.939935751651014, mse=582580.1210431262\n",
            "Iteration: 320, B1=5.940175346155147, mse=582580.115345248\n",
            "Iteration: 330, B1=5.940356532905279, mse=582580.1120867885\n",
            "Iteration: 340, B1=5.940493550398824, mse=582580.1102233652\n",
            "Iteration: 350, B1=5.94059716610761, mse=582580.109157725\n",
            "Iteration: 360, B1=5.9406755226358845, mse=582580.1085483148\n",
            "Iteration: 370, B1=5.9407347776040265, mse=582580.1081998098\n",
            "Iteration: 380, B1=5.940779587542993, mse=582580.1080005092\n",
            "Iteration: 390, B1=5.9408134738261715, mse=582580.1078865348\n",
            "Iteration: 400, B1=5.940839099395277, mse=582580.107821356\n",
            "Iteration: 410, B1=5.9408584780267, mse=582580.1077840821\n",
            "Iteration: 420, B1=5.940873132583415, mse=582580.1077627663\n",
            "Iteration: 430, B1=5.94088421468864, mse=582580.1077505762\n",
            "Iteration: 440, B1=5.940892595225738, mse=582580.107743605\n",
            "Iteration: 450, B1=5.940898932776286, mse=582580.1077396186\n",
            "Iteration: 460, B1=5.94090372537448, mse=582580.1077373386\n",
            "Iteration: 470, B1=5.940907349644973, mse=582580.1077360349\n",
            "Iteration: 480, B1=5.940910090399792, mse=582580.1077352891\n",
            "Iteration: 490, B1=5.940912163020198, mse=582580.107734863\n"
          ],
          "name": "stdout"
        }
      ]
    },
    {
      "cell_type": "markdown",
      "metadata": {
        "id": "EAyM9v3Vsc4d"
      },
      "source": [
        "***3. Произвести вычисления как в пункте 2, но с вычислением intercept. Учесть, что изменение коэффициентов должно производиться на каждом шаге одновременно (то есть изменение одного коэффициента не должно влиять на изменение другого во время одной итерации).**"
      ]
    },
    {
      "cell_type": "code",
      "metadata": {
        "id": "4Z83V24M96Me"
      },
      "source": [
        "def calculate_coef_intercept(X, y, alpha1 = 0.1, alpha2 = 1e-6, B0_start = 1, B1_start = 0.1):\r\n",
        "  B0_ = B0 = B0_start\r\n",
        "  B1 = B1_start\r\n",
        "  n = len(X)\r\n",
        "  for i in range(1000):\r\n",
        "    B0_ -=alpha1*(2/n)*np.sum(B0 + B1*X-y) \r\n",
        "    B1 -=alpha2*(2/n)*np.sum((B0 + B1*X-y)*X)\r\n",
        "    B0 = B0_\r\n",
        "    if i%10==0:\r\n",
        "      print(f'Iteration: {i}, B0={B0}, B1={B1}, mse={mse_(B1)}')\r\n",
        "  return B0, B1"
      ],
      "execution_count": 16,
      "outputs": []
    },
    {
      "cell_type": "code",
      "metadata": {
        "colab": {
          "base_uri": "https://localhost:8080/"
        },
        "id": "hCW5Kkot_hru",
        "outputId": "9cc7e86c-5057-4c0d-a067-ebdb6680d04a"
      },
      "source": [
        "B0, B1 = calculate_coef_intercept(X, y)"
      ],
      "execution_count": 17,
      "outputs": [
        {
          "output_type": "stream",
          "text": [
            "Iteration: 0, B0=282.512, B1=0.26074288, mse=1027106.0517840516\n",
            "Iteration: 10, B0=679.8676624681913, B1=0.5676161808191176, mse=980372.1939904902\n",
            "Iteration: 20, B0=677.735445764394, B1=0.6464927003500176, mse=968779.262833242\n",
            "Iteration: 30, B0=674.2309474787996, B1=0.7122927915897554, mse=959239.4078820748\n",
            "Iteration: 40, B0=671.2585032355965, B1=0.7679378449330523, mse=951264.9612289909\n",
            "Iteration: 50, B0=668.7445517205149, B1=0.8149989471789263, mse=944587.2670664774\n",
            "Iteration: 60, B0=666.6184076692025, B1=0.8548003003500573, mse=938987.3211981405\n",
            "Iteration: 70, B0=664.820247266285, B1=0.8884618093931984, mse=934285.3054994333\n",
            "Iteration: 80, B0=663.299475035129, B1=0.916930620144658, mse=930333.0025586551\n",
            "Iteration: 90, B0=662.013300467335, B1=0.941007769643921, mse=927007.8213733997\n",
            "Iteration: 100, B0=660.9255340122735, B1=0.961370725198014, mse=924208.0577280233\n",
            "Iteration: 110, B0=660.0055687988529, B1=0.9785924465197456, mse=921849.1096358576\n",
            "Iteration: 120, B0=659.2275194391158, B1=0.9931575072986446, mse=919860.4367594908\n",
            "Iteration: 130, B0=658.5694936818849, B1=1.0054757298229704, mse=918183.1034383451\n",
            "Iteration: 140, B0=658.0129764227153, B1=1.0158937162949968, mse=916767.7826764036\n",
            "Iteration: 150, B0=657.5423087378259, B1=1.02470460130028, mse=915573.126650152\n",
            "Iteration: 160, B0=657.1442472833982, B1=1.0321562998396068, mse=914564.4305083659\n",
            "Iteration: 170, B0=656.807591662908, B1=1.0384584830014238, mse=913712.5322833157\n",
            "Iteration: 180, B0=656.5228692775904, B1=1.0437884775517245, mse=912992.9039524136\n",
            "Iteration: 190, B0=656.282068792564, B1=1.0482962554402426, mse=912384.8980560839\n",
            "Iteration: 200, B0=656.0784147190554, B1=1.0521086536144713, mse=911871.1215072979\n",
            "Iteration: 210, B0=655.9061767700662, B1=1.0553329428759015, mse=911436.9138475063\n",
            "Iteration: 220, B0=655.7605086252508, B1=1.0580598461966644, mse=911069.9116020491\n",
            "Iteration: 230, B0=655.6373115682813, B1=1.06036609142402, mse=910759.6838546613\n",
            "Iteration: 240, B0=655.5331191598096, B1=1.0623165701990473, mse=910497.4269113049\n",
            "Iteration: 250, B0=655.444999701032, B1=1.0639661638357987, mse=910275.7081202723\n",
            "Iteration: 260, B0=655.370473743439, B1=1.065361287536323, mse=910088.2506806476\n",
            "Iteration: 270, B0=655.3074443236924, B1=1.0665411963916924, mse=909929.7526977716\n",
            "Iteration: 280, B0=655.2541379606223, B1=1.067539089916443, mse=909795.7349034151\n",
            "Iteration: 290, B0=655.209054754158, B1=1.068383046195106, mse=909682.4124047257\n",
            "Iteration: 300, B0=655.1709261821069, B1=1.069096811925245, mse=909586.5866020983\n",
            "Iteration: 310, B0=655.1386794072948, B1=1.0697004705867204, mse=909505.5540551541\n",
            "Iteration: 320, B0=655.1114070907659, B1=1.0702110075376932, mse=909437.0296040379\n",
            "Iteration: 330, B0=655.0883418616633, B1=1.0706427879376814, mse=909379.0814909514\n",
            "Iteration: 340, B0=655.0688347254438, B1=1.0710079609451573, mse=909330.0765906578\n",
            "Iteration: 350, B0=655.052336802887, B1=1.071316801562732, mse=909288.6341618616\n",
            "Iteration: 360, B0=655.0383838860864, B1=1.0715779997485537, mse=909253.5867845112\n",
            "Iteration: 370, B0=655.0265833768663, B1=1.0717989049287482, mse=909223.947359843\n",
            "Iteration: 380, B0=655.0166032401075, B1=1.0719857327908298, mse=909198.881227421\n",
            "Iteration: 390, B0=655.0081626611574, B1=1.0721437401767104, mse=909177.6826023143\n",
            "Iteration: 400, B0=655.001024144448, B1=1.0722773729963264, mse=909159.7546606103\n",
            "Iteration: 410, B0=654.9949868309996, B1=1.0723903913237864, mse=909144.592706622\n",
            "Iteration: 420, B0=654.9898808467791, B1=1.0724859751959115, mse=909131.7699436564\n",
            "Iteration: 430, B0=654.985562522895, B1=1.0725668140900597, mse=909120.9254447535\n",
            "Iteration: 440, B0=654.9819103531346, B1=1.072635182598908, mse=909111.7539826079\n",
            "Iteration: 450, B0=654.9788215751, B1=1.0726930044314722, mse=909103.9974308783\n",
            "Iteration: 460, B0=654.9762092787468, B1=1.0727419065411927, mse=909097.4374937543\n",
            "Iteration: 470, B0=654.9739999609645, B1=1.0727832649040987, mse=909091.8895583665\n",
            "Iteration: 480, B0=654.9721314573941, B1=1.0728182432351376, mse=909087.1974964602\n",
            "Iteration: 490, B0=654.9705511932868, B1=1.0728478257320322, mse=909083.2292686388\n",
            "Iteration: 500, B0=654.9692147041903, B1=1.0728728447680054, mse=909079.8732071752\n",
            "Iteration: 510, B0=654.9680843848364, B1=1.0728940043125577, mse=909077.0348725835\n",
            "Iteration: 520, B0=654.9671284310276, B1=1.0729118997393097, mse=909074.6343953473\n",
            "Iteration: 530, B0=654.9663199447523, B1=1.0729270345782398, mse=909072.6042278872\n",
            "Iteration: 540, B0=654.9656361773448, B1=1.0729398346836867, mse=909070.8872434439\n",
            "Iteration: 550, B0=654.9650578893988, B1=1.072950660216764, mse=909069.4351283138\n",
            "Iteration: 560, B0=654.9645688094213, B1=1.0729598157793403, mse=909068.2070221726\n",
            "Iteration: 570, B0=654.9641551759947, B1=1.0729675589847316, mse=909067.1683681842\n",
            "Iteration: 580, B0=654.9638053505688, B1=1.0729741077062585, mse=909066.2899405297\n",
            "Iteration: 590, B0=654.9635094899811, B1=1.0729796462076244, mse=909065.5470219763\n",
            "Iteration: 600, B0=654.9632592694973, B1=1.0729843303276092, mse=909064.9187083298\n",
            "Iteration: 610, B0=654.9630476485746, B1=1.0729882918649614, mse=909064.3873201975\n",
            "Iteration: 620, B0=654.9628686727601, B1=1.0729916422868633, mse=909063.9379055032\n",
            "Iteration: 630, B0=654.9627173061477, B1=1.0729944758653265, mse=909063.5578187474\n",
            "Iteration: 640, B0=654.9625892896814, B1=1.0729968723297547, mse=909063.236365182\n",
            "Iteration: 650, B0=654.9624810213162, B1=1.0729988991103188, mse=909062.9644998728\n",
            "Iteration: 660, B0=654.9623894546667, B1=1.073000613235263, mse=909062.7345731914\n",
            "Iteration: 670, B0=654.9623120132895, B1=1.0730020629355297, mse=909062.5401155681\n",
            "Iteration: 680, B0=654.9622465181893, B1=1.0730032890018502, mse=909062.3756554497\n",
            "Iteration: 690, B0=654.962191126507, B1=1.0730043259324882, mse=909062.2365653425\n",
            "Iteration: 700, B0=654.9621442796673, B1=1.0730052029039294, mse=909062.118931604\n",
            "Iteration: 710, B0=654.9621046595239, B1=1.0730059445918305, mse=909062.0194443207\n",
            "Iteration: 720, B0=654.9620711512708, B1=1.0730065718653274, mse=909061.9353041761\n",
            "Iteration: 730, B0=654.9620428120744, B1=1.0730071023742376, mse=909061.8641436833\n",
            "Iteration: 740, B0=654.9620188445447, B1=1.073007551045679, mse=909061.8039605705\n",
            "Iteration: 750, B0=654.9619985742987, B1=1.0730079305040778, mse=909061.753061441\n",
            "Iteration: 760, B0=654.9619814309854, B1=1.0730082514263912, mse=909061.7100141263\n",
            "Iteration: 770, B0=654.9619669322371, B1=1.0730085228425241, mse=909061.6736073869\n",
            "Iteration: 780, B0=654.9619546700977, B1=1.0730087523894083, mse=909061.6428168325\n",
            "Iteration: 790, B0=654.9619442995428, B1=1.0730089465258863, mse=909061.6167760981\n",
            "Iteration: 800, B0=654.9619355287724, B1=1.0730091107144448, mse=909061.5947524651\n",
            "Iteration: 810, B0=654.9619281110004, B1=1.0730092495749164, mse=909061.5761262467\n",
            "Iteration: 820, B0=654.9619218375102, B1=1.073009367014466, mse=909061.56037335\n",
            "Iteration: 830, B0=654.9619165317823, B1=1.073009466337533, mse=909061.5470505303\n",
            "Iteration: 840, B0=654.9619120445277, B1=1.0730095503388055, mse=909061.5357829181\n",
            "Iteration: 850, B0=654.9619082494869, B1=1.0730096213818574, mse=909061.5262534728\n",
            "Iteration: 860, B0=654.9619050398774, B1=1.0730096814656522, mse=909061.5181940604\n",
            "Iteration: 870, B0=654.9619023253892, B1=1.0730097322807888, mse=909061.5113779111\n",
            "Iteration: 880, B0=654.961900029644, B1=1.073009775257071, mse=909061.5056132358\n",
            "Iteration: 890, B0=654.9618980880455, B1=1.0730098116037374, mse=909061.5007378319\n",
            "Iteration: 900, B0=654.9618964459622, B1=1.0730098423434873, mse=909061.4966145188\n",
            "Iteration: 910, B0=654.9618950571903, B1=1.073009868341256, mse=909061.4931272768\n",
            "Iteration: 920, B0=654.9618938826534, B1=1.0730098903285517, mse=909061.4901779847\n",
            "Iteration: 930, B0=654.961892889303, B1=1.073009908924039, mse=909061.4876836569\n",
            "Iteration: 940, B0=654.9618920491893, B1=1.0730099246509457, mse=909061.4855741092\n",
            "Iteration: 950, B0=654.9618913386731, B1=1.073009937951785, mse=909061.4837899853\n",
            "Iteration: 960, B0=654.9618907377629, B1=1.0730099492008076, mse=909061.4822810842\n",
            "Iteration: 970, B0=654.9618902295504, B1=1.0730099587145312, mse=909061.4810049497\n",
            "Iteration: 980, B0=654.9618897997358, B1=1.073009966760647, mse=909061.4799256742\n",
            "Iteration: 990, B0=654.9618894362253, B1=1.0730099735655514, mse=909061.4790128901\n"
          ],
          "name": "stdout"
        }
      ]
    }
  ]
}