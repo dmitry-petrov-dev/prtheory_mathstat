{
  "nbformat": 4,
  "nbformat_minor": 0,
  "metadata": {
    "colab": {
      "name": "HW_Lesson_8. Дисперсионный анализ. Логистическая регрессия.ipynb",
      "provenance": [],
      "authorship_tag": "ABX9TyN2Z97P8TyWbsCEql9ao5Oo",
      "include_colab_link": true
    },
    "kernelspec": {
      "name": "python3",
      "display_name": "Python 3"
    },
    "language_info": {
      "name": "python"
    }
  },
  "cells": [
    {
      "cell_type": "markdown",
      "metadata": {
        "id": "view-in-github",
        "colab_type": "text"
      },
      "source": [
        "<a href=\"https://colab.research.google.com/github/dmitry-petrov-dev/prtheory_mathstat/blob/lesson8/HW_Lesson_8_%D0%94%D0%B8%D1%81%D0%BF%D0%B5%D1%80%D1%81%D0%B8%D0%BE%D0%BD%D0%BD%D1%8B%D0%B9_%D0%B0%D0%BD%D0%B0%D0%BB%D0%B8%D0%B7_%D0%9B%D0%BE%D0%B3%D0%B8%D1%81%D1%82%D0%B8%D1%87%D0%B5%D1%81%D0%BA%D0%B0%D1%8F_%D1%80%D0%B5%D0%B3%D1%80%D0%B5%D1%81%D1%81%D0%B8%D1%8F.ipynb\" target=\"_parent\"><img src=\"https://colab.research.google.com/assets/colab-badge.svg\" alt=\"Open In Colab\"/></a>"
      ]
    },
    {
      "cell_type": "code",
      "metadata": {
        "id": "dP6BxB0xNzUh"
      },
      "source": [
        "import numpy as np\n",
        "from scipy import stats"
      ],
      "execution_count": 1,
      "outputs": []
    },
    {
      "cell_type": "markdown",
      "metadata": {
        "id": "B1m4qxKMN7LX"
      },
      "source": [
        "##1. Провести дисперсионный анализ для определения того, есть ли различия среднего роста среди взрослых футболистов, хоккеистов и штангистов.##\n",
        "##Даны значения роста в трех группах случайно выбранных спортсменов:##\n",
        "Футболисты: 173, 175, 180, 178, 177, 185, 183, 182.\n",
        "\n",
        "Хоккеисты: 177, 179, 180, 188, 177, 172, 171, 184, 180.\n",
        "\n",
        "Штангисты: 172, 173, 169, 177, 166, 180, 178, 177, 172, 166, 170."
      ]
    },
    {
      "cell_type": "code",
      "metadata": {
        "id": "gv7cl-wbOKDB"
      },
      "source": [
        "# футболисты\n",
        "y1 = np.array([173, 175, 180, 178, 177, 185, 183, 182])\n",
        "\n",
        "# хоккеисты\n",
        "y2 = np.array([177, 179, 180, 188, 177, 172, 171, 184, 180])\n",
        "\n",
        "# штангисты\n",
        "y3 = np.array([172, 173, 169, 177, 166, 180, 178, 177, 172, 166, 170])"
      ],
      "execution_count": 2,
      "outputs": []
    },
    {
      "cell_type": "code",
      "metadata": {
        "colab": {
          "base_uri": "https://localhost:8080/"
        },
        "id": "T6Qa_rmASPSR",
        "outputId": "23c56729-5856-4b19-d411-f68f17c3b142"
      },
      "source": [
        "n1 = len(y1)\n",
        "n1"
      ],
      "execution_count": 3,
      "outputs": [
        {
          "output_type": "execute_result",
          "data": {
            "text/plain": [
              "8"
            ]
          },
          "metadata": {
            "tags": []
          },
          "execution_count": 3
        }
      ]
    },
    {
      "cell_type": "code",
      "metadata": {
        "colab": {
          "base_uri": "https://localhost:8080/"
        },
        "id": "jYA4VTPFSU61",
        "outputId": "b5d73820-43bc-4410-8d1e-2a327bd7d8f9"
      },
      "source": [
        "n2 = len(y2)\n",
        "n2"
      ],
      "execution_count": 4,
      "outputs": [
        {
          "output_type": "execute_result",
          "data": {
            "text/plain": [
              "9"
            ]
          },
          "metadata": {
            "tags": []
          },
          "execution_count": 4
        }
      ]
    },
    {
      "cell_type": "code",
      "metadata": {
        "colab": {
          "base_uri": "https://localhost:8080/"
        },
        "id": "tv9sjPBhSU93",
        "outputId": "85ecd90c-8964-4cb9-f587-7df69c0642fe"
      },
      "source": [
        "n3 = len(y3)\n",
        "n3"
      ],
      "execution_count": 5,
      "outputs": [
        {
          "output_type": "execute_result",
          "data": {
            "text/plain": [
              "11"
            ]
          },
          "metadata": {
            "tags": []
          },
          "execution_count": 5
        }
      ]
    },
    {
      "cell_type": "code",
      "metadata": {
        "colab": {
          "base_uri": "https://localhost:8080/"
        },
        "id": "J4THf6ZSSr0r",
        "outputId": "b499ac8a-be36-47dc-c1e8-fec836dbb586"
      },
      "source": [
        "n = n1 + n2 + n3\n",
        "n"
      ],
      "execution_count": 6,
      "outputs": [
        {
          "output_type": "execute_result",
          "data": {
            "text/plain": [
              "28"
            ]
          },
          "metadata": {
            "tags": []
          },
          "execution_count": 6
        }
      ]
    },
    {
      "cell_type": "code",
      "metadata": {
        "id": "zNHfW8FESvoa"
      },
      "source": [
        "k = 3 # количество групп"
      ],
      "execution_count": 7,
      "outputs": []
    },
    {
      "cell_type": "markdown",
      "metadata": {
        "id": "L5Xf1Pq4S6-F"
      },
      "source": [
        "Средний возраст по группам:"
      ]
    },
    {
      "cell_type": "code",
      "metadata": {
        "colab": {
          "base_uri": "https://localhost:8080/"
        },
        "id": "UvLluPRqS2Es",
        "outputId": "f3b79ce2-bc35-42e1-df69-63d2d48afc7f"
      },
      "source": [
        "y1_mean = np.mean(y1)\n",
        "y1_mean"
      ],
      "execution_count": 8,
      "outputs": [
        {
          "output_type": "execute_result",
          "data": {
            "text/plain": [
              "179.125"
            ]
          },
          "metadata": {
            "tags": []
          },
          "execution_count": 8
        }
      ]
    },
    {
      "cell_type": "code",
      "metadata": {
        "colab": {
          "base_uri": "https://localhost:8080/"
        },
        "id": "58wsCoLqTEUn",
        "outputId": "6c589449-fc51-4582-8c34-9093c4b02abc"
      },
      "source": [
        "y2_mean = np.mean(y2)\n",
        "y2_mean"
      ],
      "execution_count": 9,
      "outputs": [
        {
          "output_type": "execute_result",
          "data": {
            "text/plain": [
              "178.66666666666666"
            ]
          },
          "metadata": {
            "tags": []
          },
          "execution_count": 9
        }
      ]
    },
    {
      "cell_type": "code",
      "metadata": {
        "colab": {
          "base_uri": "https://localhost:8080/"
        },
        "id": "6-lEcm97TEX4",
        "outputId": "e35e10b4-7afb-43c2-8c01-674ba6762198"
      },
      "source": [
        "y3_mean = np.mean(y3)\n",
        "y3_mean"
      ],
      "execution_count": 10,
      "outputs": [
        {
          "output_type": "execute_result",
          "data": {
            "text/plain": [
              "172.72727272727272"
            ]
          },
          "metadata": {
            "tags": []
          },
          "execution_count": 10
        }
      ]
    },
    {
      "cell_type": "markdown",
      "metadata": {
        "id": "cAUVWrueTO_u"
      },
      "source": [
        "Объединим все значения и посчитаем среднее значение всей выборки:"
      ]
    },
    {
      "cell_type": "code",
      "metadata": {
        "colab": {
          "base_uri": "https://localhost:8080/"
        },
        "id": "wuH1sVEDTOAV",
        "outputId": "fb458b83-ad6e-45f2-80ac-22d24aaa93e6"
      },
      "source": [
        "y_all = np.concatenate([y1, y2, y3])\n",
        "y_all"
      ],
      "execution_count": 11,
      "outputs": [
        {
          "output_type": "execute_result",
          "data": {
            "text/plain": [
              "array([173, 175, 180, 178, 177, 185, 183, 182, 177, 179, 180, 188, 177,\n",
              "       172, 171, 184, 180, 172, 173, 169, 177, 166, 180, 178, 177, 172,\n",
              "       166, 170])"
            ]
          },
          "metadata": {
            "tags": []
          },
          "execution_count": 11
        }
      ]
    },
    {
      "cell_type": "code",
      "metadata": {
        "colab": {
          "base_uri": "https://localhost:8080/"
        },
        "id": "rE3eaDBhTg-y",
        "outputId": "8a18b5ae-bd5f-4aea-d4a1-4839d359aab6"
      },
      "source": [
        "y_mean = np.mean(y_all)\n",
        "y_mean"
      ],
      "execution_count": 12,
      "outputs": [
        {
          "output_type": "execute_result",
          "data": {
            "text/plain": [
              "176.46428571428572"
            ]
          },
          "metadata": {
            "tags": []
          },
          "execution_count": 12
        }
      ]
    },
    {
      "cell_type": "markdown",
      "metadata": {
        "id": "ky1QBqcfTrc1"
      },
      "source": [
        "Определим сумму квадратов отклонений:"
      ]
    },
    {
      "cell_type": "code",
      "metadata": {
        "colab": {
          "base_uri": "https://localhost:8080/"
        },
        "id": "ASMsJYCuTqjM",
        "outputId": "6925a829-04d8-40aa-c48b-cafef670a48e"
      },
      "source": [
        "s2 = np.sum((y_all - y_mean)**2)\n",
        "s2"
      ],
      "execution_count": 13,
      "outputs": [
        {
          "output_type": "execute_result",
          "data": {
            "text/plain": [
              "830.9642857142854"
            ]
          },
          "metadata": {
            "tags": []
          },
          "execution_count": 13
        }
      ]
    },
    {
      "cell_type": "markdown",
      "metadata": {
        "id": "40ZONQDUT5TU"
      },
      "source": [
        "Найдем сумму квадратов отклоненний средних групповых значений от общего среднего:"
      ]
    },
    {
      "cell_type": "code",
      "metadata": {
        "colab": {
          "base_uri": "https://localhost:8080/"
        },
        "id": "vAIp4U2uT4bM",
        "outputId": "951363ad-db1a-4beb-8017-0a6aef521180"
      },
      "source": [
        "s2_f = ((y1_mean - y_mean)**2) * n1 + ((y2_mean - y_mean)**2) * n2 + ((y3_mean - y_mean)**2) * n3\n",
        "s2_f"
      ],
      "execution_count": 14,
      "outputs": [
        {
          "output_type": "execute_result",
          "data": {
            "text/plain": [
              "253.9074675324678"
            ]
          },
          "metadata": {
            "tags": []
          },
          "execution_count": 14
        }
      ]
    },
    {
      "cell_type": "markdown",
      "metadata": {
        "id": "0u7jLcpuUnup"
      },
      "source": [
        "Найдем теперь остаточную сумму квадратов отклоненний:"
      ]
    },
    {
      "cell_type": "code",
      "metadata": {
        "colab": {
          "base_uri": "https://localhost:8080/"
        },
        "id": "zc8cNef5Uw7i",
        "outputId": "bbf6bb2f-5041-4b79-e1c2-7937f938d4c0"
      },
      "source": [
        "s2_ost = 0\n",
        "for val in y1:\n",
        "  s2_ost = s2_ost + (val - y1_mean)**2\n",
        "for val in y2:\n",
        "  s2_ost = s2_ost + (val - y2_mean)**2\n",
        "for val in y3:\n",
        "  s2_ost = s2_ost + (val - y3_mean)**2\n",
        "s2_ost"
      ],
      "execution_count": 15,
      "outputs": [
        {
          "output_type": "execute_result",
          "data": {
            "text/plain": [
              "577.0568181818181"
            ]
          },
          "metadata": {
            "tags": []
          },
          "execution_count": 15
        }
      ]
    },
    {
      "cell_type": "markdown",
      "metadata": {
        "id": "yVwJt8kaVXMQ"
      },
      "source": [
        "Проверим что соблюдается равенство: $S^2 = S_F^2 + S_{ост}^2$:"
      ]
    },
    {
      "cell_type": "code",
      "metadata": {
        "colab": {
          "base_uri": "https://localhost:8080/"
        },
        "id": "7xmjEVQaVQ3W",
        "outputId": "24002e30-6e10-4cd7-8b75-1f187b757ea6"
      },
      "source": [
        "print(s2)\n",
        "print(s2_f + s2_ost)"
      ],
      "execution_count": 16,
      "outputs": [
        {
          "output_type": "stream",
          "text": [
            "830.9642857142854\n",
            "830.9642857142859\n"
          ],
          "name": "stdout"
        }
      ]
    },
    {
      "cell_type": "markdown",
      "metadata": {
        "id": "oCTiBXGoVnG0"
      },
      "source": [
        "Найдем факторную дисперсию:"
      ]
    },
    {
      "cell_type": "code",
      "metadata": {
        "colab": {
          "base_uri": "https://localhost:8080/"
        },
        "id": "bBspTWePVl1V",
        "outputId": "f9efded4-00cc-4462-f410-2b2c1ff02b4a"
      },
      "source": [
        "sigma2_f = s2_f / (k-1)\n",
        "sigma2_f"
      ],
      "execution_count": 17,
      "outputs": [
        {
          "output_type": "execute_result",
          "data": {
            "text/plain": [
              "126.9537337662339"
            ]
          },
          "metadata": {
            "tags": []
          },
          "execution_count": 17
        }
      ]
    },
    {
      "cell_type": "markdown",
      "metadata": {
        "id": "hgpaS02hWKGt"
      },
      "source": [
        "Найдем остаточную дисперсию:"
      ]
    },
    {
      "cell_type": "code",
      "metadata": {
        "colab": {
          "base_uri": "https://localhost:8080/"
        },
        "id": "zsZZV5aPWORP",
        "outputId": "e9c725d3-26fa-4e96-a205-d69c12ae084d"
      },
      "source": [
        "sigma2_ost = s2_ost / (n-k)\n",
        "sigma2_ost"
      ],
      "execution_count": 18,
      "outputs": [
        {
          "output_type": "execute_result",
          "data": {
            "text/plain": [
              "23.082272727272724"
            ]
          },
          "metadata": {
            "tags": []
          },
          "execution_count": 18
        }
      ]
    },
    {
      "cell_type": "markdown",
      "metadata": {
        "id": "ldlmI0IuWcOv"
      },
      "source": [
        "Вычислим $F_H$:"
      ]
    },
    {
      "cell_type": "code",
      "metadata": {
        "colab": {
          "base_uri": "https://localhost:8080/"
        },
        "id": "YSg7b2XnWbeE",
        "outputId": "171fa9f4-6cf9-45ae-8bab-0f702c80157a"
      },
      "source": [
        "F_h = sigma2_f / sigma2_ost\n",
        "F_h"
      ],
      "execution_count": 19,
      "outputs": [
        {
          "output_type": "execute_result",
          "data": {
            "text/plain": [
              "5.500053450812599"
            ]
          },
          "metadata": {
            "tags": []
          },
          "execution_count": 19
        }
      ]
    },
    {
      "cell_type": "markdown",
      "metadata": {
        "id": "2_JCiKENWzl3"
      },
      "source": [
        "Найдем значение $F_{крит}$ в таблице критических точек распределения Фишера-Снедекора для уровня значимости $a = 0.01$ и двух степеней свододы:"
      ]
    },
    {
      "cell_type": "code",
      "metadata": {
        "colab": {
          "base_uri": "https://localhost:8080/"
        },
        "id": "kFLofhvQXKBM",
        "outputId": "8252f5be-4c0f-4e96-d761-62a2c015fce8"
      },
      "source": [
        "df_m = k - 1\n",
        "df_m"
      ],
      "execution_count": 20,
      "outputs": [
        {
          "output_type": "execute_result",
          "data": {
            "text/plain": [
              "2"
            ]
          },
          "metadata": {
            "tags": []
          },
          "execution_count": 20
        }
      ]
    },
    {
      "cell_type": "code",
      "metadata": {
        "colab": {
          "base_uri": "https://localhost:8080/"
        },
        "id": "woyK1q5HXRg-",
        "outputId": "ebf04107-531f-4e3f-b95b-6079aa1ffe26"
      },
      "source": [
        "df_vn = n - k\n",
        "df_vn"
      ],
      "execution_count": 21,
      "outputs": [
        {
          "output_type": "execute_result",
          "data": {
            "text/plain": [
              "25"
            ]
          },
          "metadata": {
            "tags": []
          },
          "execution_count": 21
        }
      ]
    },
    {
      "cell_type": "code",
      "metadata": {
        "id": "B4uP98wfavhk"
      },
      "source": [
        "F_krit = 5.57"
      ],
      "execution_count": 22,
      "outputs": []
    },
    {
      "cell_type": "markdown",
      "metadata": {
        "id": "Wg8ha-qca85D"
      },
      "source": [
        "Так как $F_{H} < F_{крит}$, различие между группами статистически не значимое для уровня значимости $a = 0.01$"
      ]
    },
    {
      "cell_type": "markdown",
      "metadata": {
        "id": "7ify0QIAcx6h"
      },
      "source": [
        "Проверим теперь с помощью функции ANOVA:"
      ]
    },
    {
      "cell_type": "code",
      "metadata": {
        "colab": {
          "base_uri": "https://localhost:8080/"
        },
        "id": "NzBRCx8LYw9I",
        "outputId": "7b711fb9-ffc7-4eaa-c8be-f0e2293a51da"
      },
      "source": [
        "stats.f_oneway(y1, y2, y3)"
      ],
      "execution_count": 23,
      "outputs": [
        {
          "output_type": "execute_result",
          "data": {
            "text/plain": [
              "F_onewayResult(statistic=5.500053450812596, pvalue=0.010482206918698694)"
            ]
          },
          "metadata": {
            "tags": []
          },
          "execution_count": 23
        }
      ]
    }
  ]
}